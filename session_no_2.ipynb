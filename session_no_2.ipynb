{
 "cells": [
  {
   "cell_type": "markdown",
   "id": "86584ae8",
   "metadata": {},
   "source": [
    "# Python Problem-Solving Portfolio\n",
    "### By Azeem\n",
    "\n",
    "Welcome to my problem-solving journey! This notebook contains my solutions to various Python programming problems, ranging from basics to advanced topics.\n",
    "\n",
    "**Goal:** Improve logical thinking, code clarity, and problem-solving skills."
   ]
  },
  {
   "cell_type": "markdown",
   "id": "471ac0b7",
   "metadata": {},
   "source": [
    "## Problem [1]:\n",
    "\n",
    "**Problem Statement:**  \n",
    "[Write a program that will give you in hand monthly salary after deduction on CTC - HRA(10%), DA(5%), PF(3%) and taxes deduction as below:\n",
    "Salary(Lakhs) : Tax(%)\n",
    "\n",
    "Below 5 : 0%\\\n",
    "5-10 : 10%\\\n",
    "10-20 : 20%\\\n",
    "aboove 20 : 30%]\n",
    "\n",
    "**Example:**  \n",
    "Input: `Before: 450000 lakhs`  \n",
    "Output: `After: 369000 lakhs`\n",
    "\n",
    "**Solution:**"
   ]
  },
  {
   "cell_type": "code",
   "execution_count": 3,
   "id": "648c54c0",
   "metadata": {},
   "outputs": [
    {
     "name": "stdout",
     "output_type": "stream",
     "text": [
      "\n",
      "\n",
      "Monthly Salary: 450000.0\n",
      "HRA(10%): 45000.0\n",
      "DA(5%): 22500.0\n",
      "PF(3%): 13500.0\n",
      "\n",
      "Total CTC Deduction: 81000.0\n",
      "Remaining Salary: 369000.0\n",
      "    \n"
     ]
    }
   ],
   "source": [
    "sal = float(input('enter your monthly salary: '))\n",
    "\n",
    "hra = sal * 10/100\n",
    "da = sal * 5/100\n",
    "pf = sal * 3/100\n",
    "\n",
    "tot_ctc_ded = hra + da + pf\n",
    "taxable_sal = sal - tot_ctc_ded\n",
    "\n",
    "if sal >= 500000 and sal <= 1000000:\n",
    "    final_salary = taxable_sal - taxable_sal * 10/100\n",
    "    print(f'''\n",
    "\n",
    "Monthly Salary: {sal}\n",
    "HRA(10%): {hra}\n",
    "DA(5%): {da}\n",
    "PF(3%): {pf}\n",
    "\n",
    "Total CTC Deduction: {tot_ctc_ded}\n",
    "Remaining Salary after 10% tax: {final_salary}\n",
    "    ''')\n",
    "elif sal >= 1000000 and sal <= 2000000:\n",
    "    final_salary = taxable_sal - taxable_sal * 20/100\n",
    "    print(f'''\n",
    "\n",
    "Monthly Salary: {sal}\n",
    "HRA(10%): {hra}\n",
    "DA(5%): {da}\n",
    "PF(3%): {pf}\n",
    "\n",
    "Total CTC Deduction: {tot_ctc_ded}\n",
    "Remaining Salary after 20% tax: {final_salary}\n",
    "    ''')\n",
    "elif sal > 2000000:\n",
    "    final_salary = taxable_sal - taxable_sal * 30/100\n",
    "    print(f'''\n",
    "\n",
    "Monthly Salary: {sal}\n",
    "HRA(10%): {hra}\n",
    "DA(5%): {da}\n",
    "PF(3%): {pf}\n",
    "\n",
    "Total CTC Deduction: {tot_ctc_ded}\n",
    "Remaining Salary after 30% tax: {final_salary}\n",
    "    ''')\n",
    "else:\n",
    "    print(f'''\n",
    "\n",
    "Monthly Salary: {sal}\n",
    "HRA(10%): {hra}\n",
    "DA(5%): {da}\n",
    "PF(3%): {pf}\n",
    "\n",
    "Total CTC Deduction: {tot_ctc_ded}\n",
    "Remaining Salary: {taxable_sal}\n",
    "    ''')"
   ]
  },
  {
   "cell_type": "markdown",
   "id": "c5a4077e",
   "metadata": {},
   "source": [
    "## Problem [2]:\n",
    "\n",
    "**Problem Statement:**  \n",
    "[Write a program that take a user input of three angles and will find out whether it can form a triangle or not.]\n",
    "\n",
    "**Example:**  \n",
    "Input: `ang_1: 40 degree & ang_2: 60 degree & ang_2: 80 degree`  \n",
    "Output: `It's is a triangle`\n",
    "\n",
    "**Solution:**"
   ]
  },
  {
   "cell_type": "code",
   "execution_count": 4,
   "id": "e63f7b53",
   "metadata": {},
   "outputs": [
    {
     "name": "stdout",
     "output_type": "stream",
     "text": [
      "it is a triangle!\n"
     ]
    }
   ],
   "source": [
    "ang_1 = float(input('enter the value of angle 1: '))\n",
    "ang_2 = float(input('enter the value of angle 2: '))\n",
    "ang_3 = float(input('enter the value of angle 3: '))\n",
    "\n",
    "tot_ang = ang_1 + ang_2 + ang_3\n",
    "\n",
    "if tot_ang == 180:\n",
    "    print('it is a triangle!')\n",
    "else:\n",
    "    print('it is not a triangle!')"
   ]
  },
  {
   "cell_type": "markdown",
   "id": "c9cb4559",
   "metadata": {},
   "source": [
    "## Problem [3]:\n",
    "\n",
    "**Problem Statement:**  \n",
    "[Write a program that will take user input of cost price and selling price and determines whether its a loss or a profit.]\n",
    "\n",
    "**Example:**  \n",
    "Input: `cost price: 4500 & sale price: 7500`  \n",
    "Output: `congrates! you are in profit`\n",
    "\n",
    "**Solution:**"
   ]
  },
  {
   "cell_type": "code",
   "execution_count": 5,
   "id": "014833ef",
   "metadata": {},
   "outputs": [
    {
     "name": "stdout",
     "output_type": "stream",
     "text": [
      "congrates! you are in profit\n"
     ]
    }
   ],
   "source": [
    "cost_pric = float(input('enter the cost price: '))\n",
    "sale_pric = float(input('enter the sale price: '))\n",
    "\n",
    "if cost_pric > sale_pric:\n",
    "    print('you are in loose!')\n",
    "elif cost_pric == sale_pric:\n",
    "    print('neither profit nor loose!')\n",
    "else:\n",
    "    print('congrates! you are in profit')"
   ]
  },
  {
   "cell_type": "markdown",
   "id": "03e5de36",
   "metadata": {},
   "source": [
    "## Problem [4]:\n",
    "\n",
    "**Problem Statement:**  \n",
    "[Problem 4: Write a menu-driven program\n",
    "1. cm to ft\n",
    "2. km to miles\n",
    "3. USD to INR\n",
    "4. exit]\n",
    "\n",
    "**Example:**  \n",
    "Input: `no: 3 & USD: 1000`  \n",
    "Output: `the result is 87250.0 INR`\n",
    "\n",
    "**Solution:**"
   ]
  },
  {
   "cell_type": "code",
   "execution_count": 12,
   "id": "d465cd3c",
   "metadata": {},
   "outputs": [
    {
     "name": "stdout",
     "output_type": "stream",
     "text": [
      "----Menu Driven Program-----\n",
      "the result is 87250.0 INR\n"
     ]
    }
   ],
   "source": [
    "print('----Menu Driven Program-----')\n",
    "\n",
    "userinput=input('enter the value: ')\n",
    "\n",
    "if userinput == '1':\n",
    "    cm_val = float(input('enter the cm value: '))\n",
    "    ft = cm_val * 0.0328084\n",
    "    print(f'the result is {ft} feets')\n",
    "elif userinput == '2':\n",
    "    km_val = float(input('enter the km value: '))\n",
    "    miles = km_val * 0.621371\n",
    "    print(f'the result is {miles} miles')\n",
    "elif userinput == '3':\n",
    "    usd = float(input('enter the number of USD: '))\n",
    "    inr = usd * 87.25\n",
    "    print(f'the result is {inr} INR')\n",
    "elif userinput == '4':\n",
    "    print('thanks for using this menu driven program!')\n",
    "else:\n",
    "    print('Invalid Input')"
   ]
  },
  {
   "cell_type": "markdown",
   "id": "99b5f57b",
   "metadata": {},
   "source": [
    "## Problem [5]:\n",
    "\n",
    "**Problem Statement:**  \n",
    "[Exercise 12: Display Fibonacci series up to 10 terms.\\\n",
    "Note: The Fibonacci Sequence is a series of numbers. The next number is found by adding up the two numbers before it. The first two numbers are 0 and 1. For example, 0, 1, 1, 2, 3, 5, 8, 13, 21. The next number in this series above is 13+21 = 34]\n",
    "\n",
    "**Example:**  \n",
    "Input: `num1: 0 & num2: 1`  \n",
    "Output: `0 1 1 2 3 5 8 13 21 34`\n",
    "\n",
    "**Solution:**"
   ]
  },
  {
   "cell_type": "code",
   "execution_count": 13,
   "id": "1552288e",
   "metadata": {},
   "outputs": [
    {
     "name": "stdout",
     "output_type": "stream",
     "text": [
      "0 1 1 2 3 5 8 13 21 34 "
     ]
    }
   ],
   "source": [
    "num1,num2 = 0,1\n",
    "\n",
    "for _ in range(10):\n",
    "    print(num1,end=' ')\n",
    "    num1,num2 = num2,num1 + num2"
   ]
  },
  {
   "cell_type": "markdown",
   "id": "010c2aeb",
   "metadata": {},
   "source": [
    "## Problem [6]:\n",
    "\n",
    "**Problem Statement:**  \n",
    "[Find the factorial of a given number.\n",
    "Write a program to use the loop to find the factorial of a given number.\n",
    "\n",
    "The factorial (symbol: !) means to multiply all whole numbers from the chosen number down to 1.\n",
    "\n",
    "For example: calculate the factorial of 5]\n",
    "\n",
    "**Example:**  \n",
    "Input: `num: 5`  \n",
    "Output: `120`\n",
    "\n",
    "**Solution:**"
   ]
  },
  {
   "cell_type": "code",
   "execution_count": 14,
   "id": "617b7ace",
   "metadata": {},
   "outputs": [
    {
     "name": "stdout",
     "output_type": "stream",
     "text": [
      "120\n"
     ]
    }
   ],
   "source": [
    "num = int(input('enter the number: '))\n",
    "fact = 1\n",
    "\n",
    "for i in range(num,0,-1):\n",
    "    fact = fact * i\n",
    "print(fact)"
   ]
  },
  {
   "cell_type": "markdown",
   "id": "ddcbb04a",
   "metadata": {},
   "source": [
    "## Problem [7]:\n",
    "\n",
    "**Problem Statement:**  \n",
    "Reverse a given integer number.\n",
    "Example:\n",
    "\n",
    "Input:\n",
    "\n",
    "76542\\\n",
    "Output:\n",
    "\n",
    "24567]\n",
    "\n",
    "**Example:**  \n",
    "Input: `76542`  \n",
    "Output: `24567`\n",
    "\n",
    "**Solution:**"
   ]
  },
  {
   "cell_type": "code",
   "execution_count": 20,
   "id": "8a5d4fd2",
   "metadata": {},
   "outputs": [
    {
     "name": "stdout",
     "output_type": "stream",
     "text": [
      "the reverse order is 24567\n"
     ]
    }
   ],
   "source": [
    "given_num = 76542\n",
    "\n",
    "n1 = given_num % 10\n",
    "t1 = given_num // 10\n",
    "n2 = t1 % 10\n",
    "t2 = t1 // 10\n",
    "n3 = t2 % 10\n",
    "t3 = t2 // 10\n",
    "n4 = t3 % 10\n",
    "n5 = t3 // 10\n",
    "\n",
    "print('the reverse order is ',n1,n2,n3,n4,n5,sep='')"
   ]
  },
  {
   "cell_type": "markdown",
   "id": "76aec503",
   "metadata": {},
   "source": [
    "## Problem [8]:\n",
    "\n",
    "**Problem Statement:**  \n",
    "[Take a user input as integer N. Find out the sum from 1 to N. If any number if divisible by 5, then skip that number. And if the sum is greater than 300, don't need to calculate the sum further more. Print the final result. And don't use for loop to solve this problem.\\\n",
    "Example 1:\n",
    "\n",
    "Input:\n",
    "\n",
    "30\\\n",
    "Output:\n",
    "\n",
    "276]\n",
    "\n",
    "**Example:**  \n",
    "Input: `n: 30`  \n",
    "Output: `276`\n",
    "\n",
    "**Solution:**"
   ]
  },
  {
   "cell_type": "code",
   "execution_count": 1,
   "id": "8f016f4d",
   "metadata": {},
   "outputs": [
    {
     "name": "stdout",
     "output_type": "stream",
     "text": [
      "276\n"
     ]
    }
   ],
   "source": [
    "n = int(input('enter the value of N: '))\n",
    "\n",
    "count = 1\n",
    "sum = 0\n",
    "\n",
    "while count < n and sum <= 300:\n",
    "    if count % 5 != 0:\n",
    "        if count + sum <= 300:\n",
    "            sum = sum + count\n",
    "    count = count + 1\n",
    "print(sum)"
   ]
  },
  {
   "cell_type": "markdown",
   "id": "81841d98",
   "metadata": {},
   "source": [
    "## Problem [9]:\n",
    "\n",
    "**Problem Statement:**  \n",
    "[Write a program that keeps on accepting a number from the user until the user enters Zero. Display the sum and average of all the numbers.]\n",
    "\n",
    "**Example:**  \n",
    "Input: `sum: 450 + 450 + 450`  \n",
    "Output: `sum: 1350 & average: 337.5`\n",
    "\n",
    "**Solution:**"
   ]
  },
  {
   "cell_type": "code",
   "execution_count": 3,
   "id": "135d5f6e",
   "metadata": {},
   "outputs": [
    {
     "name": "stdout",
     "output_type": "stream",
     "text": [
      "the sum is 1350\n",
      "the average is 337.5\n"
     ]
    }
   ],
   "source": [
    "sum = 0\n",
    "count = 1\n",
    "\n",
    "while True:\n",
    "    userinput = int(input('enter the value (0 to stop): '))\n",
    "    if userinput == 0:\n",
    "        break\n",
    "    sum = sum + userinput\n",
    "    count = count + 1\n",
    "if count > 0:\n",
    "    average = sum / count\n",
    "else:\n",
    "    average = 0\n",
    "print(f'the sum is {sum}')\n",
    "print(f'the average is {average}')"
   ]
  },
  {
   "cell_type": "markdown",
   "id": "0abc1e6a",
   "metadata": {},
   "source": [
    "## Problem [10]:\n",
    "\n",
    "**Problem Statement:**  \n",
    "[Write a program which will find all such numbers which are divisible by 7 but are not a multiple of 5, between 2000 and 3200 (both included). The numbers obtained should be printed in a comma-separated sequence on a single line.]\n",
    "\n",
    "**Example:**  \n",
    "Input: `range(2000,3000)`  \n",
    "Output: `[2002, 2009, 2016, 2023, 2037, 2044, 2051, 2058,...soon]`\n",
    "\n",
    "**Solution:**"
   ]
  },
  {
   "cell_type": "code",
   "execution_count": 4,
   "id": "5a67ab90",
   "metadata": {},
   "outputs": [
    {
     "name": "stdout",
     "output_type": "stream",
     "text": [
      "[2002, 2009, 2016, 2023, 2037, 2044, 2051, 2058, 2072, 2079, 2086, 2093, 2107, 2114, 2121, 2128, 2142, 2149, 2156, 2163, 2177, 2184, 2191, 2198, 2212, 2219, 2226, 2233, 2247, 2254, 2261, 2268, 2282, 2289, 2296, 2303, 2317, 2324, 2331, 2338, 2352, 2359, 2366, 2373, 2387, 2394, 2401, 2408, 2422, 2429, 2436, 2443, 2457, 2464, 2471, 2478, 2492, 2499, 2506, 2513, 2527, 2534, 2541, 2548, 2562, 2569, 2576, 2583, 2597, 2604, 2611, 2618, 2632, 2639, 2646, 2653, 2667, 2674, 2681, 2688, 2702, 2709, 2716, 2723, 2737, 2744, 2751, 2758, 2772, 2779, 2786, 2793, 2807, 2814, 2821, 2828, 2842, 2849, 2856, 2863, 2877, 2884, 2891, 2898, 2912, 2919, 2926, 2933, 2947, 2954, 2961, 2968, 2982, 2989, 2996]\n"
     ]
    }
   ],
   "source": [
    "l = []\n",
    "\n",
    "for i in range(2000,3000+1):\n",
    "    if i % 7 == 0 and i % 5 != 0:\n",
    "        l.append(i)\n",
    "print(l)"
   ]
  },
  {
   "cell_type": "markdown",
   "id": "c46b44b9",
   "metadata": {},
   "source": [
    "## Problem [11]:\n",
    "\n",
    "**Problem Statement:**  \n",
    "[A robot moves in a plane starting from the original point (0,0). The robot can move toward UP, DOWN, LEFT and RIGHT with a given steps.\\\n",
    "The trace of robot movement is shown as the following:\n",
    "\n",
    "UP 5\\\n",
    "DOWN 3\\\n",
    "LEFT 3\\\n",
    "RIGHT 2\\\n",
    "!\\\n",
    "The numbers after the direction are steps.\n",
    "\n",
    "! means robot stop there.\n",
    "\n",
    "Please write a program to compute the distance from current position after a sequence of movement and original point.\n",
    "\n",
    "If the distance is a float, then just print the nearest integer.\n",
    "\n",
    "Example:\n",
    "\n",
    "Input:\n",
    "\n",
    "UP 5\\\n",
    "DOWN 3\\\n",
    "LEFT 3\\\n",
    "RIGHT 2\\\n",
    "!\\\n",
    "Output:\n",
    "\n",
    "2]\n",
    "\n",
    "**Example:**  \n",
    "Input: `userinput: UP 5 & DOWN 15 & LEFT 10 & RIGHT 15`   \n",
    "Output: `7`\n",
    "\n",
    "**Solution:**"
   ]
  },
  {
   "cell_type": "code",
   "execution_count": 8,
   "id": "d7d1c5a1",
   "metadata": {},
   "outputs": [
    {
     "name": "stdout",
     "output_type": "stream",
     "text": [
      "7\n"
     ]
    }
   ],
   "source": [
    "import math\n",
    "x,y = 0,0\n",
    "\n",
    "while True:\n",
    "    userinput = input('Enter the direction and steps of robot: ').split()\n",
    "    if userinput[0] == '!':\n",
    "        break\n",
    "    direction = userinput[0]\n",
    "    step = int(userinput[1])\n",
    "\n",
    "    if direction == 'UP':\n",
    "        y = y + step\n",
    "    elif direction == 'LEFT':\n",
    "        x = x - step\n",
    "    elif direction == 'DOWN':\n",
    "        y = y - step\n",
    "    elif direction == 'RIGHT':\n",
    "        x = x + step\n",
    "    else:\n",
    "        print('Invalid Input!')\n",
    "result = round(math.sqrt(x**2 + y**2))\n",
    "print(result)"
   ]
  },
  {
   "cell_type": "markdown",
   "id": "4581d02b",
   "metadata": {},
   "source": [
    "## Problem [12]:\n",
    "\n",
    "**Problem Statement:**  \n",
    "[Write a program to print whether a given number is a prime number or not]\n",
    "\n",
    "**Example:**  \n",
    "Input: `5`   \n",
    "Output: `prime`\n",
    "\n",
    "**Solution:**"
   ]
  },
  {
   "cell_type": "code",
   "execution_count": 15,
   "id": "d541de7e",
   "metadata": {},
   "outputs": [
    {
     "name": "stdout",
     "output_type": "stream",
     "text": [
      "prime\n"
     ]
    }
   ],
   "source": [
    "n = int(input('enter the value of n: '))\n",
    "\n",
    "flag = True\n",
    "\n",
    "for i in range(2,n):\n",
    "    if n % i == 0:\n",
    "        flag = False\n",
    "        break\n",
    "if flag == True:\n",
    "    print('prime')\n",
    "else:\n",
    "    print('not prime')"
   ]
  },
  {
   "cell_type": "markdown",
   "id": "0df5b89b",
   "metadata": {},
   "source": [
    "## Problem [13]:\n",
    "\n",
    "**Problem Statement:**  \n",
    "[Print all the Armstrong numbers in a given range.\\\n",
    "Range will be provided by the user\\\n",
    "Armstrong number is a number that is equal to the sum of cubes of its digits. For example 0, 1, 153, 370, 371 and 407 are the Armstrong numbers.]\n",
    "\n",
    "**Example:**  \n",
    "Input: `lower_range: 0 & upper_range: 500`   \n",
    "Output: `['0', '1', '2', '3', '4', '5', '6', '7', '8', '9', '153', '370', '371', '407']`\n",
    "\n",
    "**Solution:**"
   ]
  },
  {
   "cell_type": "code",
   "execution_count": 53,
   "id": "fa23fe73",
   "metadata": {},
   "outputs": [
    {
     "name": "stdout",
     "output_type": "stream",
     "text": [
      "['0', '1', '2', '3', '4', '5', '6', '7', '8', '9', '153', '370', '371', '407']\n"
     ]
    }
   ],
   "source": [
    "start = int(input('enter the starting value: '))\n",
    "end = int(input('enter the ending value: '))\n",
    "\n",
    "armstrong = []\n",
    "\n",
    "for i in range(start,end+1):\n",
    "    num_str = str(i)\n",
    "    power = len(num_str)\n",
    "    sum_val = sum(int(digit)**power for digit in num_str)\n",
    "    if sum_val == i:\n",
    "        armstrong.append(num_str)\n",
    "print(armstrong)"
   ]
  },
  {
   "cell_type": "markdown",
   "id": "84717a72",
   "metadata": {},
   "source": [
    "## Problem [14]:\n",
    "\n",
    "**Problem Statement:**  \n",
    "Calculate the angle between the hour hand and minute hand.\n",
    "Note: There can be two angles between hands; we need to print a minimum of two. Also, we need to print the floor of the final result angle. For example, if the final angle is 10.61, we need to print 10.\n",
    "\n",
    "Input:\\\n",
    "H = 9 , M = 0\\\n",
    "Output:\\\n",
    "90\\\n",
    "Explanation:\\\n",
    "The minimum angle between hour and minute hand when the time is 9 is 90 degress.]\n",
    "\n",
    "**Example:**  \n",
    "Input: `H: 9 & M: 0`\n",
    "Output: `90`\n",
    "\n",
    "**Solution:**"
   ]
  },
  {
   "cell_type": "code",
   "execution_count": 24,
   "id": "12c540bc",
   "metadata": {},
   "outputs": [
    {
     "name": "stdout",
     "output_type": "stream",
     "text": [
      "the result is 90\n"
     ]
    }
   ],
   "source": [
    "import math\n",
    "\n",
    "H = int(input('enter the value (0-12): '))\n",
    "M = int(input('enter the value (0-59): '))\n",
    "\n",
    "hand_hour_ang = (H*30) + (M*0.5)\n",
    "mint_hour_ang = M*6\n",
    "\n",
    "diff = abs(hand_hour_ang - mint_hour_ang)\n",
    "min_ang = min(diff,360 - diff)\n",
    "\n",
    "result = math.floor(min_ang)\n",
    "print(f'the result is {result}')"
   ]
  },
  {
   "cell_type": "markdown",
   "id": "8ffc97cb",
   "metadata": {},
   "source": [
    "## Problem [15]:\n",
    "\n",
    "**Problem Statement:**  \n",
    "[Given two rectangles, find if the given two rectangles overlap or not. A rectangle is denoted by providing the x and y coordinates of two points: the left top corner and the right bottom corner of the rectangle. Two rectangles sharing a side are considered overlapping. (L1 and R1 are the extreme points of the first rectangle and L2 and R2 are the extreme points of the second rectangle).\\\n",
    "Note: It may be assumed that the rectangles are parallel to the coordinate axis.\n",
    "\n",
    "<img src='https://www.geeksforgeeks.org/wp-content/uploads/rectanglesOverlap.png' width='300' height='200'>\n",
    "\n",
    "]\n",
    "\n",
    "**Example:**  \n",
    "Input: `l1_x = 0 & l1_y = 10 & r1_x = 10 & r1_y = 0 & l2_x = 5 & l2_y = 5 & r2_x = 15 & r2_y = 0`   \n",
    "Output: `overlap`\n",
    "\n",
    "**Solution:**"
   ]
  },
  {
   "cell_type": "code",
   "execution_count": null,
   "id": "9dc9c439",
   "metadata": {},
   "outputs": [
    {
     "name": "stdout",
     "output_type": "stream",
     "text": [
      "overlap\n"
     ]
    }
   ],
   "source": [
    "l1_x = 0\n",
    "l1_y = 10\n",
    "r1_x = 10\n",
    "r1_y = 0\n",
    "l2_x = 5\n",
    "l2_y = 5\n",
    "r2_x = 15\n",
    "r2_y = 0\n",
    "\n",
    "if(\n",
    "    r1_x < l2_x or\n",
    "    l1_x > r2_x or\n",
    "    r1_y > l2_y or\n",
    "    l1_y < r2_y\n",
    "):\n",
    "    print('dont overlap')\n",
    "else:\n",
    "    print('overlap')"
   ]
  }
 ],
 "metadata": {
  "kernelspec": {
   "display_name": "exploratory_data_analysis",
   "language": "python",
   "name": "python3"
  },
  "language_info": {
   "codemirror_mode": {
    "name": "ipython",
    "version": 3
   },
   "file_extension": ".py",
   "mimetype": "text/x-python",
   "name": "python",
   "nbconvert_exporter": "python",
   "pygments_lexer": "ipython3",
   "version": "3.13.5"
  }
 },
 "nbformat": 4,
 "nbformat_minor": 5
}
