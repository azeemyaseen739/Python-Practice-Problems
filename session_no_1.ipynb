{
 "cells": [
  {
   "cell_type": "markdown",
   "id": "3f837f02",
   "metadata": {},
   "source": [
    "# Python Problem-Solving Portfolio\n",
    "### By Azeem\n",
    "\n",
    "Welcome to my problem-solving journey! This notebook contains my solutions to various Python programming problems, ranging from basics to advanced topics.\n",
    "\n",
    "**Goal:** Improve logical thinking, code clarity, and problem-solving skills."
   ]
  },
  {
   "cell_type": "markdown",
   "id": "d45a01a2",
   "metadata": {},
   "source": [
    "## Problem [1]:\n",
    "\n",
    "**Problem Statement:**  \n",
    "[Print the given strings as per stated format.]\n",
    "\n",
    "**Example:**  \n",
    "Input: `\"Data\" \"Science\" \"Mentorship\" \"Program\" \n",
    "\"By\" \"CampusX\"`  \n",
    "Output: Data-Science-Mentorship-Program-started-By-CampusX`\n",
    "\n",
    "**Solution:**"
   ]
  },
  {
   "cell_type": "code",
   "execution_count": 3,
   "id": "433447b2",
   "metadata": {},
   "outputs": [
    {
     "name": "stdout",
     "output_type": "stream",
     "text": [
      "Data-Science-Mentorship-Program-started-By-CampusX\n"
     ]
    }
   ],
   "source": [
    "print('Data','Science','Mentorship','Program',sep='-',end='-started-')\n",
    "print('By','CampusX',sep='-')"
   ]
  },
  {
   "cell_type": "markdown",
   "id": "c81c3da5",
   "metadata": {},
   "source": [
    "## Problem [2]:\n",
    "\n",
    "**Problem Statement:**  \n",
    "[Write a program that will convert celsius value to fahrenheit.]\n",
    "\n",
    "**Example:**  \n",
    "Input: `30 C`  \n",
    "Output: `86 F`\n",
    "\n",
    "**Solution:**"
   ]
  },
  {
   "cell_type": "code",
   "execution_count": 19,
   "id": "07efe5cb",
   "metadata": {},
   "outputs": [
    {
     "name": "stdout",
     "output_type": "stream",
     "text": [
      "the 30 C converted in 86.0 F\n"
     ]
    }
   ],
   "source": [
    "celcius = int(input('enter the value is celcius to convert in fahrenheit: '))\n",
    "\n",
    "fahren = celcius * (9/5) + 32\n",
    "\n",
    "print(f'the {celcius} C converted in {fahren} F')"
   ]
  },
  {
   "cell_type": "markdown",
   "id": "be3a49ae",
   "metadata": {},
   "source": [
    "## Problem [3]:\n",
    "\n",
    "**Problem Statement:**  \n",
    "[Take 2 numbers as input from the user.Write a program to swap the numbers without using any special python syntax.]\n",
    "\n",
    "**Example:**  \n",
    "Input: `num1: 4 & num2: 5`  \n",
    "Output: `num1: 5 & num2: 4`\n",
    "\n",
    "**Solution:**"
   ]
  },
  {
   "cell_type": "code",
   "execution_count": 5,
   "id": "c09a8741",
   "metadata": {},
   "outputs": [
    {
     "name": "stdout",
     "output_type": "stream",
     "text": [
      "the num1 is 4 and num2 is 5\n"
     ]
    }
   ],
   "source": [
    "num1 = int(input('enter the 1st number: '))\n",
    "num2 = int(input('enter the 2nd number: '))\n",
    "\n",
    "num1,num2 = num2,num1\n",
    "\n",
    "print(f'the num1 is {num1} and num2 is {num2}')"
   ]
  },
  {
   "cell_type": "markdown",
   "id": "963e3a55",
   "metadata": {},
   "source": [
    "## Problem [4]:\n",
    "\n",
    "**Problem Statement:**  \n",
    "[Write a program to find the euclidean distance between two coordinates.Take both the coordinates from the user as input.]\n",
    "\n",
    "**Example:**  \n",
    "Input: `1st coordinate(x1: 5, y1: 7) and 2nd coordinate(x2: 6, y2: 8)`  \n",
    "Output: `1.4142135623730951`\n",
    "\n",
    "**Solution:**"
   ]
  },
  {
   "cell_type": "code",
   "execution_count": 7,
   "id": "c405e566",
   "metadata": {},
   "outputs": [
    {
     "name": "stdout",
     "output_type": "stream",
     "text": [
      "the Euclidean distance is 1.4142135623730951 between 2 coordinates ((x1,y1) & (x2,y2))\n"
     ]
    }
   ],
   "source": [
    "x1 = int(input('enter the value of x1: '))\n",
    "y1 = int(input('enter the value of y1: '))\n",
    "x2 = int(input('enter the value of x2: '))\n",
    "y2 = int(input('enter the value of y2: '))\n",
    "\n",
    "dist = ((x2 - x1)**2 + (y2 - y1)**2)**0.5\n",
    "\n",
    "print(f'the Euclidean distance is {dist} between 2 coordinates ((x1,y1) & (x2,y2))')"
   ]
  },
  {
   "cell_type": "markdown",
   "id": "445becc6",
   "metadata": {},
   "source": [
    "## Problem [5]:\n",
    "\n",
    "**Problem Statement:**  \n",
    "[Write a program to find the simple interest when the value of principle,rate of interest and time period is provided by the user.]\n",
    "\n",
    "**Example:**  \n",
    "Input: `value of principle: 50000 rupees, rate of interest: 5%, time period: 5 years`  \n",
    "Output: `12500.0 rupees`\n",
    "\n",
    "**Solution:**"
   ]
  },
  {
   "cell_type": "code",
   "execution_count": 10,
   "id": "42dd0e72",
   "metadata": {},
   "outputs": [
    {
     "name": "stdout",
     "output_type": "stream",
     "text": [
      "the simple interest is 12500.0\n"
     ]
    }
   ],
   "source": [
    "val_princ = float(input('enter the value of principle: '))\n",
    "rat_inter = float(input('enter the rate of interest: '))\n",
    "time_peri = float(input('enter the time period: '))\n",
    "\n",
    "simp_inter = (val_princ * rat_inter * time_peri)/100\n",
    "\n",
    "print(f'the simple interest is {simp_inter}')"
   ]
  },
  {
   "cell_type": "markdown",
   "id": "93b04bba",
   "metadata": {},
   "source": [
    "## Problem [6]:\n",
    "\n",
    "**Problem Statement:**  \n",
    "[Write a program that will tell the number of dogs and chicken are there when the user will provide the value of total heads and legs.]\n",
    "\n",
    "**Example:**  \n",
    "Input: `heads -> 4 legs -> 12`  \n",
    "Output: `dogs -> 2 chicken -> 2`\n",
    "\n",
    "**Solution:**"
   ]
  },
  {
   "cell_type": "code",
   "execution_count": null,
   "id": "89cd6b8a",
   "metadata": {},
   "outputs": [
    {
     "name": "stdout",
     "output_type": "stream",
     "text": [
      "the no of dogs is 2 and no of chickens is 2\n"
     ]
    }
   ],
   "source": [
    "legs = int(input('enter the no of legs: '))\n",
    "heads = int(input('enter the no of heads: '))\n",
    "\n",
    "dogs = (legs - 2*heads)//2\n",
    "chickens = heads - dogs\n",
    "\n",
    "print(f'the no of dogs -> {dogs} and no of chickens -> {chickens}')"
   ]
  },
  {
   "cell_type": "markdown",
   "id": "d4f525c1",
   "metadata": {},
   "source": [
    "## Problem [7]:\n",
    "\n",
    "**Problem Statement:**  \n",
    "[Write a program to find the sum of squares of first n natural numbers where n will be provided by the user.]\n",
    "\n",
    "**Example:**  \n",
    "Input: `n=5`  \n",
    "Output: `55`\n",
    "\n",
    "**Solution:**"
   ]
  },
  {
   "cell_type": "code",
   "execution_count": null,
   "id": "dc2bd826",
   "metadata": {},
   "outputs": [
    {
     "name": "stdout",
     "output_type": "stream",
     "text": [
      "the sum of the sqaure of 5 is 55\n"
     ]
    }
   ],
   "source": [
    "n = int(input('enter the value of n: '))\n",
    "\n",
    "sum = 0\n",
    "\n",
    "for i in range(0,n+1):\n",
    "    sum = sum + i*i\n",
    "\n",
    "print(f'the sum of the sqaure of 5 is {sum}')"
   ]
  },
  {
   "cell_type": "markdown",
   "id": "3f8fa051",
   "metadata": {},
   "source": [
    "## Problem [8]:\n",
    "\n",
    "**Problem Statement:**  \n",
    "[Given the first 2 terms of an Arithmetic Series.Find the Nth term of the series. Assume all inputs are provided by the user.]\n",
    "\n",
    "**Example:**  \n",
    "Input: `term1: 14 & term2: 16 & n: 5`  \n",
    "Output: `nth term: 22`\n",
    "\n",
    "**Solution:**"
   ]
  },
  {
   "cell_type": "code",
   "execution_count": null,
   "id": "f1c23463",
   "metadata": {},
   "outputs": [
    {
     "name": "stdout",
     "output_type": "stream",
     "text": [
      "the nth term is 22 of the arithematic series\n"
     ]
    }
   ],
   "source": [
    "term1 = int(input('enter the value of 1st term: '))\n",
    "term2 = int(input('enter the value of 2nd term: '))\n",
    "n = int(input('enter the value of n: '))\n",
    "\n",
    "diff = term2-term1\n",
    "\n",
    "nth_term = term1 + (n - 1) * diff\n",
    "\n",
    "print(f'the nth term is {nth_term} of the arithematic series')"
   ]
  },
  {
   "cell_type": "markdown",
   "id": "429cd59f",
   "metadata": {},
   "source": [
    "## Problem [9]:\n",
    "\n",
    "**Problem Statement:**  \n",
    "[Q9:- Given 2 fractions, find the sum of those 2 fractions.Take the numerator and denominator values of the fractions from the user.]\n",
    "\n",
    "**Example:**  \n",
    "Input: `fraction1: (10,24)\n",
    "fraction2: (18,6)`  \n",
    "Output: `41/12`\n",
    "\n",
    "**Solution:**"
   ]
  },
  {
   "cell_type": "code",
   "execution_count": null,
   "id": "a730b169",
   "metadata": {},
   "outputs": [
    {
     "name": "stdout",
     "output_type": "stream",
     "text": [
      "the sum of fraction1 and fraction2 is 41/12\n"
     ]
    }
   ],
   "source": [
    "from fractions import Fraction\n",
    "\n",
    "fraction1 = Fraction(10,24)\n",
    "fraction2 = Fraction(18,6)\n",
    "\n",
    "sum_of_fractions = fraction1 + fraction2\n",
    "\n",
    "print(f'the sum of fraction1 and fraction2 is {sum_of_fractions}')"
   ]
  },
  {
   "cell_type": "markdown",
   "id": "70527fa8",
   "metadata": {},
   "source": [
    "## Problem [10]:\n",
    "\n",
    "**Problem Statement:**  \n",
    "[Given the height, width and breadth of a milk tank, you have to find out how many glasses of milk can be obtained? Assume all the inputs are provided by the user.\n",
    "Input:\n",
    "Dimensions of the milk tank\n",
    "H = 20cm, L = 20cm, B = 20cm\n",
    "\n",
    "Dimensions of the glass\n",
    "h = 3cm, r = 1cm]\n",
    "\n",
    "**Example:**  \n",
    "Input: `Dimensions of the milk tank\n",
    "H = 20cm, L = 20cm, B = 20cm\n",
    "Dimensions of the glass\n",
    "h = 3cm, r = 1cm`  \n",
    "Output: `283 glasses`\n",
    "\n",
    "**Solution:**"
   ]
  },
  {
   "cell_type": "code",
   "execution_count": 18,
   "id": "76a690b4",
   "metadata": {},
   "outputs": [
    {
     "name": "stdout",
     "output_type": "stream",
     "text": [
      "the no of glass are 283.0 that obtained from the milk tank\n"
     ]
    }
   ],
   "source": [
    "H = float(input('enter the length of milk tank: '))\n",
    "L = float(input('enter the width of milk tank: '))\n",
    "B = float(input('enter the breadth of milk tank: '))\n",
    "\n",
    "h = float(input('enter the height of glass: '))\n",
    "r = float(input('enter the radius of glass: '))\n",
    "pie_val = 3.14\n",
    "\n",
    "vol_tank = H * L * B\n",
    "vol_glass = pie_val * r*r * h\n",
    "\n",
    "no_glass = vol_tank // vol_glass\n",
    "\n",
    "print(f'the no of glass are {no_glass} that obtained from the milk tank')\n"
   ]
  }
 ],
 "metadata": {
  "kernelspec": {
   "display_name": "exploratory_data_analysis",
   "language": "python",
   "name": "python3"
  },
  "language_info": {
   "codemirror_mode": {
    "name": "ipython",
    "version": 3
   },
   "file_extension": ".py",
   "mimetype": "text/x-python",
   "name": "python",
   "nbconvert_exporter": "python",
   "pygments_lexer": "ipython3",
   "version": "3.13.5"
  }
 },
 "nbformat": 4,
 "nbformat_minor": 5
}
