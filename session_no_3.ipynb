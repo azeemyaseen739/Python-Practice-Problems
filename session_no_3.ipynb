{
 "cells": [
  {
   "cell_type": "markdown",
   "id": "c345c12b",
   "metadata": {},
   "source": [
    "# Python Problem-Solving Portfolio\n",
    "### By Azeem\n",
    "\n",
    "Welcome to my problem-solving journey! This notebook contains my solutions to various Python programming problems, ranging from basics to advanced topics.\n",
    "\n",
    "**Goal:** Improve logical thinking, code clarity, and problem-solving skills."
   ]
  },
  {
   "cell_type": "markdown",
   "id": "4bedb492",
   "metadata": {},
   "source": [
    "## Problem [1]:\n",
    "\n",
    "**Problem Statement:**  \n",
    "[Print the following pattern. Write a program to use for loop to print the following reverse number pattern.\n",
    "```\n",
    "5 4 3 2 1 \n",
    "4 3 2 1 \n",
    "3 2 1 \n",
    "2 1 \n",
    "1\n",
    "\n",
    "```\n",
    "]\n",
    "\n",
    "**Example:**  \n",
    "Input: `5`  \n",
    "Output: `Above Pattern`\n",
    "\n",
    "**Solution:**"
   ]
  },
  {
   "cell_type": "code",
   "execution_count": 1,
   "id": "ba673814",
   "metadata": {},
   "outputs": [
    {
     "name": "stdout",
     "output_type": "stream",
     "text": [
      "5 4 3 2 1 \n",
      "4 3 2 1 \n",
      "3 2 1 \n",
      "2 1 \n",
      "1 \n"
     ]
    }
   ],
   "source": [
    "value = 5\n",
    "for i in range(value,0,-1):\n",
    "    for j in range(i,0,-1):\n",
    "        print(j,end=' ')\n",
    "    print()"
   ]
  },
  {
   "cell_type": "markdown",
   "id": "dc99829b",
   "metadata": {},
   "source": [
    "## Problem [2]:\n",
    "\n",
    "**Problem Statement:**  \n",
    "[Print the following pattern.]\n",
    "```\n",
    "* \n",
    "* * \n",
    "* * * \n",
    "* * * * \n",
    "* * * * * \n",
    "* * * * \n",
    "* * * \n",
    "* * \n",
    "*\n",
    "```\n",
    "]\n",
    "\n",
    "**Example:**  \n",
    "Input: `no input, only execution`  \n",
    "Output: `Above Pattern`\n",
    "\n",
    "**Solution:**"
   ]
  },
  {
   "cell_type": "code",
   "execution_count": 16,
   "id": "8f4e283b",
   "metadata": {},
   "outputs": [
    {
     "name": "stdout",
     "output_type": "stream",
     "text": [
      "* \n",
      "* * \n",
      "* * * \n",
      "* * * * \n",
      "* * * * * \n",
      "* * * * \n",
      "* * * \n",
      "* * \n",
      "* \n"
     ]
    }
   ],
   "source": [
    "for i in range(1,5+1):\n",
    "    for j in range(i):\n",
    "        print('*',end=' ')\n",
    "    print()\n",
    "for i in range(4,0,-1):\n",
    "    for j in range(i):\n",
    "        print('*',end=' ')\n",
    "    print()"
   ]
  },
  {
   "cell_type": "markdown",
   "id": "d9d54aa5",
   "metadata": {},
   "source": [
    "## Problem [3]:\n",
    "\n",
    "**Problem Statement:**  \n",
    "[Write a program to pring the following pattern\n",
    "```\n",
    "    *\n",
    "  * * *\n",
    "* * * * *\n",
    "```\n",
    "]\n",
    "\n",
    "**Example:**  \n",
    "Input: `rows: 3`  \n",
    "Output: `Above Pattern`\n",
    "\n",
    "**Solution:**"
   ]
  },
  {
   "cell_type": "code",
   "execution_count": 28,
   "id": "f5e69f54",
   "metadata": {},
   "outputs": [
    {
     "name": "stdout",
     "output_type": "stream",
     "text": [
      "   *\n",
      "  ***\n",
      " *****\n"
     ]
    }
   ],
   "source": [
    "rows = int(input('enter the no of rows: '))\n",
    "\n",
    "for i in range(rows):\n",
    "    spaces = ' ' * (rows - i - 1)\n",
    "    stars = '*' * (2 * i +1)\n",
    "    print(spaces,stars)"
   ]
  },
  {
   "cell_type": "markdown",
   "id": "cd2637b1",
   "metadata": {},
   "source": [
    "## Problem [4]:\n",
    "\n",
    "**Problem Statement:**  \n",
    "[Write a program to print the following pattern]\n",
    "```\n",
    "1\n",
    "\n",
    "2 1\n",
    "\n",
    "3 2 1\n",
    "\n",
    "4 3 2 1\n",
    "\n",
    "5 4 3 2 1\n",
    "\n",
    "```\n",
    "]\n",
    "\n",
    "**Example:**  \n",
    "Input: `rows: 5`  \n",
    "Output: `Above Pattern`\n",
    "\n",
    "**Solution:**"
   ]
  },
  {
   "cell_type": "code",
   "execution_count": 46,
   "id": "12e54e79",
   "metadata": {},
   "outputs": [
    {
     "name": "stdout",
     "output_type": "stream",
     "text": [
      "1 \n",
      "2 1 \n",
      "3 2 1 \n",
      "4 3 2 1 \n",
      "5 4 3 2 1 \n"
     ]
    }
   ],
   "source": [
    "rows = int(input('enter the no of rows: '))\n",
    "\n",
    "for i in range(1,rows+1):\n",
    "    for j in range(i,0,-1):\n",
    "        print(j,end=' ')\n",
    "    print()"
   ]
  },
  {
   "cell_type": "markdown",
   "id": "2568f0fe",
   "metadata": {},
   "source": [
    "## Problem [5]:\n",
    "\n",
    "**Problem Statement:**  \n",
    "[Write a Python Program to Find the Sum of the Series till the nth term:\\\n",
    "1 + x^2/2 + x^3/3 + … x^n/n\\\n",
    "n will be provided by the user]\n",
    "\n",
    "**Example:**  \n",
    "Input: `x: 2 & n: 4`  \n",
    "Output: `sum: 11.0`\n",
    "\n",
    "**Solution:**"
   ]
  },
  {
   "cell_type": "code",
   "execution_count": 51,
   "id": "50cfe5d6",
   "metadata": {},
   "outputs": [
    {
     "name": "stdout",
     "output_type": "stream",
     "text": [
      "the sum of series till the nth term is 11.0\n"
     ]
    }
   ],
   "source": [
    "x = int(input('enter the value of x: '))\n",
    "n = int(input('enter the value of n: '))\n",
    "\n",
    "sum = 1.0\n",
    "\n",
    "for i in range(1, n+1):\n",
    "    term = (x**i) // i\n",
    "    sum = sum + term\n",
    "print(f'the sum of series till the nth term is {sum}')"
   ]
  },
  {
   "attachments": {
    "image.png": {
     "image/png": "[encoded data removed]"
    }
   },
   "cell_type": "markdown",
   "id": "0eeb6f0b",
   "metadata": {},
   "source": [
    "## Problem [6]:\n",
    "\n",
    "**Problem Statement:**  \n",
    "[The natural logarithm can be approximated by the following series.\n",
    "temp.jpg\n",
    "\n",
    "If x is input through the keyboard, write a program to calculate the sum of the first seven terms of this series.\n",
    "![image.png](attachment:image.png)\n",
    "]\n",
    "\n",
    "\n",
    "**Example:**  \n",
    "Input: `x: 5`  \n",
    "Output: `sum: 1.9805696000000004`\n",
    "\n",
    "**Solution:**"
   ]
  },
  {
   "cell_type": "code",
   "execution_count": 53,
   "id": "5983ccf7",
   "metadata": {},
   "outputs": [
    {
     "name": "stdout",
     "output_type": "stream",
     "text": [
      "the sum of 7 terms is 1.9805696000000004\n"
     ]
    }
   ],
   "source": [
    "x = int(input('enter the value of x: '))\n",
    "n = 7\n",
    "\n",
    "sum = ((x - 1) / x)\n",
    "\n",
    "for i in range(2,n+1):\n",
    "    term = (1/2) * ((x - 1) / x)**i\n",
    "    sum = sum + term\n",
    "print(f'the sum of 7 terms is {sum}')\n"
   ]
  },
  {
   "cell_type": "markdown",
   "id": "9d72a349",
   "metadata": {},
   "source": [
    "## Problem [7]:\n",
    "\n",
    "**Problem Statement:**  \n",
    "[Find the sum of the series upto n terms.\\\n",
    "Write a program to calculate the sum of series up to n term. For example, if n =5 the series will become 2 + 22 + 222 + 2222 + 22222 = 24690. Take the user input and then calculate. And the output style should match which is given in the example.\n",
    "\n",
    "Example 1:\n",
    "\n",
    "Input:\n",
    "\n",
    "5\\\n",
    "Output:\n",
    "\n",
    "2+22+222+2222+22222\\\n",
    "Sum of above series is: 24690\n",
    "]\n",
    "\n",
    "\n",
    "**Example:**  \n",
    "Input: `n: 5`  \n",
    "Output: `the terms are [2, 22, 222, 2222, 22222] = 24690`\n",
    "\n",
    "**Solution:**"
   ]
  },
  {
   "cell_type": "code",
   "execution_count": 77,
   "id": "9dfd55ac",
   "metadata": {},
   "outputs": [
    {
     "name": "stdout",
     "output_type": "stream",
     "text": [
      "the terms are [2, 22, 222, 2222, 22222] = 24690\n"
     ]
    }
   ],
   "source": [
    "n = int(input('enter the value of n: '))\n",
    "\n",
    "current_term = 0\n",
    "total_sum = 0\n",
    "terms = []\n",
    "\n",
    "for i in range(n):\n",
    "    current_term = current_term * 10 + 2\n",
    "    total_sum = total_sum + current_term\n",
    "    terms.append(current_term)\n",
    "print(f'the terms are {terms} = {total_sum}')"
   ]
  },
  {
   "cell_type": "markdown",
   "id": "d2b2242d",
   "metadata": {},
   "source": [
    "## Problem [8]:\n",
    "\n",
    "**Problem Statement:**  \n",
    "[Write a program to print all the unique combinations of 1,2,3 and 4\\\n",
    "Output:\n",
    "\n",
    "```\n",
    "1 2 3 4\n",
    "1 2 4 3\n",
    "1 3 2 4\n",
    "1 3 4 2\n",
    "1 4 2 3\n",
    "1 4 3 2\n",
    "2 1 3 4\n",
    "2 1 4 3\n",
    "2 3 1 4\n",
    "2 3 4 1\n",
    "2 4 1 3\n",
    ".\n",
    ".\n",
    "and so on\n",
    "```\n",
    "]\n",
    "\n",
    "**Example:**  \n",
    "Input: `numbers: [1,2,3,4]`  \n",
    "Output: `Above Pattern`\n",
    "\n",
    "**Solution:**"
   ]
  },
  {
   "cell_type": "code",
   "execution_count": 103,
   "id": "ec20a721",
   "metadata": {},
   "outputs": [
    {
     "name": "stdout",
     "output_type": "stream",
     "text": [
      "All unique combinations of 1,2,3,4: \n",
      "====================\n",
      "1 2 3 4\n",
      "1 2 4 3\n",
      "1 3 2 4\n",
      "1 3 4 2\n",
      "1 4 2 3\n",
      "1 4 3 2\n",
      "2 1 3 4\n",
      "2 1 4 3\n",
      "2 3 1 4\n",
      "2 3 4 1\n",
      "2 4 1 3\n",
      "2 4 3 1\n",
      "3 1 2 4\n",
      "3 1 4 2\n",
      "3 2 1 4\n",
      "3 2 4 1\n",
      "3 4 1 2\n",
      "3 4 2 1\n",
      "4 1 2 3\n",
      "4 1 3 2\n",
      "4 2 1 3\n",
      "4 2 3 1\n",
      "4 3 1 2\n",
      "4 3 2 1\n"
     ]
    }
   ],
   "source": [
    "numbers = [1,2,3,4]\n",
    "\n",
    "print('All unique combinations of 1,2,3,4: ')\n",
    "print('='*20)\n",
    "\n",
    "for a in numbers:\n",
    "    for b in numbers:\n",
    "        if b == a:\n",
    "            continue\n",
    "        for c in numbers:\n",
    "            if c in [a,b]:\n",
    "                continue\n",
    "            for d in numbers:\n",
    "                if d in [a,b,c]:\n",
    "                    continue\n",
    "                print(a,b,c,d)"
   ]
  },
  {
   "cell_type": "markdown",
   "id": "20971d55",
   "metadata": {},
   "source": [
    "## Problem [9]:\n",
    "\n",
    "**Problem Statement:**  \n",
    "[Write a program that will take a decimal number as input and prints out the binary equivalent of the number]\n",
    "\n",
    "**Example:**  \n",
    "Input: `decimal_num: 13`  \n",
    "Output: `binary_str: 1101`\n",
    "\n",
    "**Solution:**"
   ]
  },
  {
   "cell_type": "code",
   "execution_count": 119,
   "id": "72393cbf",
   "metadata": {},
   "outputs": [
    {
     "name": "stdout",
     "output_type": "stream",
     "text": [
      "Binary equivalent of 13 is: 1101\n"
     ]
    }
   ],
   "source": [
    "decimal_num = int(input('enter the decimal number: '))\n",
    "original = decimal_num\n",
    "\n",
    "binary_str = ''\n",
    "while decimal_num > 0:\n",
    "    binary_str = str(decimal_num % 2) + binary_str\n",
    "    decimal_num = decimal_num // 2\n",
    "if binary_str == '':\n",
    "    binary_str = '0'\n",
    "print(f'Binary equivalent of {original} is: {binary_str}')"
   ]
  },
  {
   "cell_type": "markdown",
   "id": "14eca23b",
   "metadata": {},
   "source": [
    "## Problem [10]:\n",
    "\n",
    "**Problem Statement:**  \n",
    "[Write a program that will take 2 numbers as input and prints the LCM and HCF of those 2 numbers]\n",
    "\n",
    "**Example:**  \n",
    "Input: `num1: 12 & num2: 18`  \n",
    "Output: `LCM: 36 & HCF: 6`\n",
    "\n",
    "**Solution:**"
   ]
  },
  {
   "cell_type": "code",
   "execution_count": 1,
   "id": "9db86c19",
   "metadata": {},
   "outputs": [
    {
     "name": "stdout",
     "output_type": "stream",
     "text": [
      "the HCF of 12 & 18 is 6\n",
      "the LCM of 12 & 18 is 36\n"
     ]
    }
   ],
   "source": [
    "num1 = int(input('enter the 1st number: '))\n",
    "num2 = int(input('enter the 2nd number: '))\n",
    "\n",
    "a,b = num1,num2\n",
    "\n",
    "while b:\n",
    "    a,b = b,a % b\n",
    "hcf = a\n",
    "\n",
    "lcm = (num1 * num2) // hcf\n",
    "\n",
    "print(f'the HCF of {num1} & {num2} is {hcf}')\n",
    "print(f'the LCM of {num1} & {num2} is {lcm}')"
   ]
  },
  {
   "cell_type": "markdown",
   "id": "a50bb874",
   "metadata": {},
   "source": [
    "## Problem [11]:\n",
    "\n",
    "**Problem Statement:**  \n",
    "[Create Short Form from initial character\n",
    "Given a string create short form ofthe string from Initial character. Short form should be capitalised.\n",
    "\n",
    "Example:\n",
    "\n",
    "Input:\n",
    "\n",
    "Data science mentorship program\\\n",
    "Output:\n",
    "\n",
    "DSMP\n",
    "]\n",
    "\n",
    "**Example:**  \n",
    "Input: `Data science mentorship program`  \n",
    "Output: `DSMP`\n",
    "\n",
    "**Solution:**"
   ]
  },
  {
   "cell_type": "code",
   "execution_count": 6,
   "id": "8488183c",
   "metadata": {},
   "outputs": [
    {
     "name": "stdout",
     "output_type": "stream",
     "text": [
      "DSMP"
     ]
    }
   ],
   "source": [
    "given_str = 'data science mentorship program'.split()\n",
    "\n",
    "for i in given_str:\n",
    "    print(i[0].capitalize(),end='')"
   ]
  },
  {
   "cell_type": "markdown",
   "id": "50169532",
   "metadata": {},
   "source": [
    "## Problem [12]:\n",
    "\n",
    "**Problem Statement:**  \n",
    "[Append second string in the middle of first string\n",
    "Input:\n",
    "\n",
    "campusx\\\n",
    "data\\\n",
    "Output:\n",
    "\n",
    "camdatapusx\n",
    "]\n",
    "\n",
    "**Example:**  \n",
    "Input: `campusx & \n",
    "data`  \n",
    "Output: `camdatapusx`\n",
    "\n",
    "**Solution:**"
   ]
  },
  {
   "cell_type": "code",
   "execution_count": 11,
   "id": "a1c5cc11",
   "metadata": {},
   "outputs": [
    {
     "name": "stdout",
     "output_type": "stream",
     "text": [
      "camdatapusx\n"
     ]
    }
   ],
   "source": [
    "given_str = 'campusx'\n",
    "s2 = 'data'\n",
    "length_str = len(given_str) // 2\n",
    "f1 = given_str[0:length_str]\n",
    "f2 = given_str[length_str:]\n",
    "\n",
    "final_str = ''.join(f1 + s2 + f2)\n",
    "print(final_str)"
   ]
  },
  {
   "cell_type": "markdown",
   "id": "02f783c9",
   "metadata": {},
   "source": [
    "## Problem [13]:\n",
    "\n",
    "**Problem Statement:**  \n",
    "[Given string contains a combination of the lower and upper case letters. Write a program to arrange the characters of a string so that all lowercase letters should come first.\\\n",
    "Given:\n",
    "\n",
    "str1 = PyNaTive\n",
    "\n",
    "Expected Output:\n",
    "\n",
    "yaivePNT\n",
    "]\n",
    "\n",
    "**Example:**  \n",
    "Input: `str1 = PyNaTive`  \n",
    "Output: `yaivePNT`\n",
    "\n",
    "**Solution:**"
   ]
  },
  {
   "cell_type": "code",
   "execution_count": 21,
   "id": "073bff38",
   "metadata": {},
   "outputs": [
    {
     "name": "stdout",
     "output_type": "stream",
     "text": [
      "yaivePNT\n"
     ]
    }
   ],
   "source": [
    "given_str = 'PyNaTive'\n",
    "\n",
    "lowercase = ''\n",
    "uppercase = ''\n",
    "\n",
    "for char in given_str:\n",
    "    if char.islower():\n",
    "        lowercase = lowercase + char\n",
    "    else:\n",
    "        uppercase = uppercase + char\n",
    "\n",
    "result = lowercase + uppercase\n",
    "print(result)"
   ]
  },
  {
   "cell_type": "markdown",
   "id": "39004533",
   "metadata": {},
   "source": [
    "## Problem [14]:\n",
    "\n",
    "**Problem Statement:**  \n",
    "[Take a alphanumeric string input and print the sum and average of the digits that appear in the string, ignoring all other characters.\\\n",
    "Input:\n",
    "\n",
    "hel123O4every093\n",
    "\n",
    "Output:\n",
    "\n",
    "Sum: 22\\\n",
    "Avg: 2.75\n",
    "]\n",
    "\n",
    "**Example:**  \n",
    "Input: `hel123O4every093`  \n",
    "Output: `Sum: 22\n",
    "Avg: 2.75`\n",
    "\n",
    "**Solution:**"
   ]
  },
  {
   "cell_type": "code",
   "execution_count": 29,
   "id": "43c6cc52",
   "metadata": {},
   "outputs": [
    {
     "name": "stdout",
     "output_type": "stream",
     "text": [
      "Sum: 22\n",
      "Avg: 2.75\n"
     ]
    }
   ],
   "source": [
    "given_str = 'hel12304every093'\n",
    "\n",
    "sum = 0\n",
    "count = 0\n",
    "\n",
    "for char in given_str:\n",
    "    if char.isdigit():\n",
    "        sum = sum + int(char)\n",
    "        count = count + 1\n",
    "average = sum / count\n",
    "print(f'Sum: {sum}')\n",
    "print(f'Avg: {average}')"
   ]
  },
  {
   "cell_type": "markdown",
   "id": "bb4ae21c",
   "metadata": {},
   "source": [
    "## Problem [15]:\n",
    "\n",
    "**Problem Statement:**  \n",
    "[Removal of all characters from a string except integers\n",
    "Given:\n",
    "\n",
    "str1 = 'I am 25 years and 10 months old'\n",
    "Expected Output:\n",
    "\n",
    "2510\n",
    "]\n",
    "\n",
    "**Example:**  \n",
    "Input: `str1 = 'I am 25 years and 10 months old'`  \n",
    "Output: `2510`\n",
    "\n",
    "**Solution:**"
   ]
  },
  {
   "cell_type": "code",
   "execution_count": 31,
   "id": "a09aa0ba",
   "metadata": {},
   "outputs": [
    {
     "name": "stdout",
     "output_type": "stream",
     "text": [
      "the result is 2510 from the given string\n"
     ]
    }
   ],
   "source": [
    "given_str = 'I am 25 years and 10 months old'\n",
    "\n",
    "digits = ''\n",
    "for char in given_str:\n",
    "    if char.isdigit():\n",
    "        digits = digits + char\n",
    "print(f'the result is {digits} from the given string')"
   ]
  },
  {
   "cell_type": "markdown",
   "id": "9931e761",
   "metadata": {},
   "source": [
    "## Problem [16]:\n",
    "\n",
    "**Problem Statement:**  \n",
    "[Check whether the string is Symmetrical.\\\n",
    "Statement: Given a string. the task is to check if the string is symmetrical or not. A string is said to be symmetrical if both the halves of the string are the same.\n",
    "\n",
    "Example 1:\n",
    "\n",
    "Input\n",
    "\n",
    "khokho\\\n",
    "Output\n",
    "\n",
    "The entered string is symmetrical]\n",
    "\n",
    "**Example:**  \n",
    "Input: `khokho`  \n",
    "Output: `it is symmetrical`\n",
    "\n",
    "**Solution:**"
   ]
  },
  {
   "cell_type": "code",
   "execution_count": 36,
   "id": "a4ac98ae",
   "metadata": {},
   "outputs": [
    {
     "name": "stdout",
     "output_type": "stream",
     "text": [
      "it is symmetrical\n"
     ]
    }
   ],
   "source": [
    "given_str = 'khokho'\n",
    "length_str = len(given_str)\n",
    "\n",
    "if length_str % 2 != 0:\n",
    "    print('not symmetrical')\n",
    "else:\n",
    "    mid = len(given_str) // 2\n",
    "    first_half = given_str[:mid]\n",
    "    second_half = given_str[mid:]\n",
    "    if first_half == second_half:\n",
    "        print('it is symmetrical')\n",
    "    else:\n",
    "        print('not symmetrical')"
   ]
  },
  {
   "cell_type": "markdown",
   "id": "3c84fb55",
   "metadata": {},
   "source": [
    "## Problem [17]:\n",
    "\n",
    "**Problem Statement:**  \n",
    "[Reverse words in a given String\\\n",
    "Statement: We are given a string and we need to reverse words of a given string.\n",
    "\n",
    "Example 1:\n",
    "\n",
    "Input:\n",
    "\n",
    "geeks quiz practice code\\\n",
    "Output:\n",
    "\n",
    "code practice quiz geeks\\\n",
    "Example 2:\n",
    "\n",
    "Input:\n",
    "\n",
    "my name is laxmi\\\n",
    "Output:\n",
    "\n",
    "laxmi is name my\n",
    "]\n",
    "\n",
    "**Example:**  \n",
    "Input: `geeks quiz practice code`  \n",
    "Output: `code practice quiz geeks`\n",
    "\n",
    "**Solution:**"
   ]
  },
  {
   "cell_type": "code",
   "execution_count": 68,
   "id": "94f28c80",
   "metadata": {},
   "outputs": [
    {
     "name": "stdout",
     "output_type": "stream",
     "text": [
      "code practice quiz geeks\n"
     ]
    }
   ],
   "source": [
    "user_input = input('enter the string: ')\n",
    "words = user_input.split()\n",
    "reversed_words = words[::-1]\n",
    "print(' '.join(reversed_words))"
   ]
  },
  {
   "cell_type": "markdown",
   "id": "2e268ed1",
   "metadata": {},
   "source": [
    "## Problem [18]:\n",
    "\n",
    "**Problem Statement:**  \n",
    "[Find uncommon words from two Strings.\\\n",
    "Statement: Given two sentences as strings A and B. The task is to return a list of all uncommon words. A word is uncommon if it appears exactly once in any one of the sentences, and does not appear in the other sentence. Note: A sentence is a string of space-separated words. Each word consists only of lowercase letters.\n",
    "\n",
    "Example 1:\n",
    "\n",
    "Input:\n",
    "\n",
    "A = \"apple banana mango\"\\\n",
    "B = \"banana fruits mango\"\\\n",
    "Output:\n",
    "\n",
    "['apple', 'fruits']\n",
    "]\n",
    "\n",
    "**Example:**  \n",
    "Input: `A = \"apple banana mango\"\n",
    "B = \"banana fruits mango\"`  \n",
    "Output: `['apple', 'fruits']`\n",
    "\n",
    "**Solution:**"
   ]
  },
  {
   "cell_type": "code",
   "execution_count": 76,
   "id": "b2c8bb87",
   "metadata": {},
   "outputs": [
    {
     "name": "stdout",
     "output_type": "stream",
     "text": [
      "uncommon words: ['apple', 'fruit']\n"
     ]
    }
   ],
   "source": [
    "from collections import Counter\n",
    "\n",
    "def uncommon_words(A,B):\n",
    "\n",
    "    count_A = Counter(A.split())\n",
    "    count_B = Counter(B.split())\n",
    "\n",
    "    uncommon_words = []\n",
    "\n",
    "    for word in count_A:\n",
    "        if count_A[word] == 1 and word not in count_B:\n",
    "            uncommon_words.append(word)\n",
    "    for word in count_B:\n",
    "        if count_B[word] == 1 and word not in count_A:\n",
    "            uncommon_words.append(word)\n",
    "    return uncommon_words\n",
    "\n",
    "A = 'apple banana mango'\n",
    "B = 'banana mango fruit'\n",
    "\n",
    "result = uncommon_words(A,B)\n",
    "print('uncommon words:',result)"
   ]
  },
  {
   "cell_type": "markdown",
   "id": "d3c412dc",
   "metadata": {},
   "source": [
    "## Problem [19]:\n",
    "\n",
    "**Problem Statement:**  \n",
    "[Word location in String.\\\n",
    "Statement: Find a location of a word in a given sentence.\n",
    "\n",
    "Example 1:\n",
    "\n",
    "Input:\n",
    "\n",
    "Sentence: We can learn data science through campusx mentorship program.\n",
    "\n",
    "word: campusx\\\n",
    "Output:\n",
    "\n",
    "Location of the word is 7.\\\n",
    "Note- Don't use index/find functions]\n",
    "\n",
    "**Example:**  \n",
    "Input: `Sentence: We can learn data science through campusx mentorship program. & word: campusx`  \n",
    "Output: `Location of the word is 7`\n",
    "\n",
    "**Solution:**"
   ]
  },
  {
   "cell_type": "code",
   "execution_count": 32,
   "id": "ce43d008",
   "metadata": {},
   "outputs": [
    {
     "name": "stdout",
     "output_type": "stream",
     "text": [
      "the position of the given word is 7\n"
     ]
    }
   ],
   "source": [
    "sent = 'we can learn data science through campusx mentorship program'\n",
    "words = sent.split()\n",
    "position = 0\n",
    "\n",
    "\n",
    "for i in range(len(sent)):\n",
    "    if words[i] == 'campusx':\n",
    "        position = i + 1\n",
    "        break\n",
    "if position > 0:\n",
    "    print(f'the position of the given word is {position}')\n",
    "else:\n",
    "    print('word not found')"
   ]
  },
  {
   "cell_type": "markdown",
   "id": "af6bdd04",
   "metadata": {},
   "source": [
    "## Problem [20]:\n",
    "\n",
    "**Problem Statement:**  \n",
    "[Write a program that can remove all the duplicate characters from a string. User will provide the input.]\n",
    "\n",
    "**Example:**  \n",
    "Input: `s: programming`  \n",
    "Output: `result: progamin`\n",
    "\n",
    "**Solution:**"
   ]
  },
  {
   "cell_type": "code",
   "execution_count": 41,
   "id": "250ef34f",
   "metadata": {},
   "outputs": [
    {
     "name": "stdout",
     "output_type": "stream",
     "text": [
      "the result is after removing the duplicate characters progamin\n"
     ]
    }
   ],
   "source": [
    "s = 'programming'\n",
    "result = ''\n",
    "\n",
    "for char in s:\n",
    "    if char not in result:\n",
    "        result = result + char\n",
    "print(f'the result is after removing the duplicate characters {result}')"
   ]
  }
 ],
 "metadata": {
  "kernelspec": {
   "display_name": "exploratory_data_analysis",
   "language": "python",
   "name": "python3"
  },
  "language_info": {
   "codemirror_mode": {
    "name": "ipython",
    "version": 3
   },
   "file_extension": ".py",
   "mimetype": "text/x-python",
   "name": "python",
   "nbconvert_exporter": "python",
   "pygments_lexer": "ipython3",
   "version": "3.13.5"
  }
 },
 "nbformat": 4,
 "nbformat_minor": 5
}
