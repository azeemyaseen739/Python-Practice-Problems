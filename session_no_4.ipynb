{
 "cells": [
  {
   "cell_type": "markdown",
   "id": "3099166c",
   "metadata": {},
   "source": [
    "# Python Problem-Solving Portfolio\n",
    "### By Azeem\n",
    "\n",
    "Welcome to my problem-solving journey! This notebook contains my solutions to various Python programming problems, ranging from basics to advanced topics.\n",
    "\n",
    "**Goal:** Improve logical thinking, code clarity, and problem-solving skills."
   ]
  },
  {
   "cell_type": "markdown",
   "id": "e907f89f",
   "metadata": {},
   "source": [
    "## Problem [1]:\n",
    "\n",
    "**Problem Statement:**  \n",
    "Combine two lists index-wise(columns wise)\n",
    " - Write a program to add two lists index-wise. Create a new list that contains the 0th index item from both the list, then the 1st index item, and so on till the last element. any leftover items will get added at the end of the new list.\n",
    "\n",
    "**Example:**  \n",
    "Input: `list1 = [\"M\", \"na\", \"i\", \"Kh\"] &\n",
    "list2 = [\"y\", \"me\", \"s\", \"an\"]`  \n",
    "Output: `[['M','y'], ['na', me'], ['i', 's'], ['Kh', 'an']]`\n",
    "\n",
    "**Solution:**"
   ]
  },
  {
   "cell_type": "code",
   "execution_count": 313,
   "id": "eeab5a80",
   "metadata": {},
   "outputs": [
    {
     "name": "stdout",
     "output_type": "stream",
     "text": [
      "[('M', 'y'), ('na', 'me'), ('i', 's'), ('Kh', 'an')]\n"
     ]
    }
   ],
   "source": [
    "list1 = [\"M\", \"na\", \"i\", \"Kh\"]\n",
    "list2 = [\"y\", \"me\", \"s\", \"an\"]\n",
    "result = list(zip(list1,list2))\n",
    "print(result)"
   ]
  },
  {
   "cell_type": "markdown",
   "id": "d3e2ac21",
   "metadata": {},
   "source": [
    "## Problem [2]:\n",
    "\n",
    "**Problem Statement:**  \n",
    "Add new item to list after a specified item\n",
    " - Write a program to add item 7000 after 6000 in the following Python List\n",
    "\n",
    "**Example:**  \n",
    "Input: `list1 = [10, 20, [300, 400, [5000, 6000], 500], 30, 40]`  \n",
    "Output: `[10, 20, [300, 400, [5000, 6000, 7000], 500], 30, 40]`\n",
    "\n",
    "**Solution:**"
   ]
  },
  {
   "cell_type": "code",
   "execution_count": 319,
   "id": "31553c40",
   "metadata": {},
   "outputs": [
    {
     "name": "stdout",
     "output_type": "stream",
     "text": [
      "[10, 20, [300, 400, [5000, 6000, 7000], 500], 30, 40]\n"
     ]
    }
   ],
   "source": [
    "list1 = [10, 20, [300, 400, [5000, 6000], 500], 30, 40]\n",
    "list1[2][2].append(7000)\n",
    "print(list1)"
   ]
  },
  {
   "cell_type": "markdown",
   "id": "9cb92382",
   "metadata": {},
   "source": [
    "## Problem [3]:\n",
    "\n",
    "**Problem Statement:**  \n",
    "Update no of items available\n",
    " - Suppose you are given a list of candy and another list of same size representing no of items of respective candy.\n",
    " - Write a program to show no. of items of each candy type.\n",
    "\n",
    "**Example:**  \n",
    "Input: \n",
    "```\n",
    "candy_list = ['Jelly Belly','Kit Kat','Double Bubble','Milky Way','Three Musketeers']\n",
    "no_of_items = [10,20,34,74,32]\n",
    "\n",
    "```\n",
    "Output:\n",
    "\n",
    "```\n",
    "Jelly Belly-10\n",
    "Kit Kat-20\n",
    "Double Bubble-34\n",
    "Milky Way-74\n",
    "Three Musketeers-32\n",
    "```\n",
    "\n",
    "**Solution:**"
   ]
  },
  {
   "cell_type": "code",
   "execution_count": 334,
   "id": "d8dc3583",
   "metadata": {},
   "outputs": [
    {
     "name": "stdout",
     "output_type": "stream",
     "text": [
      "Jelly Belly - 10\n",
      "Kit Kat - 20\n",
      "Double Bubble - 34\n",
      "Milky Way - 74\n",
      "Three Musketeers - 32\n"
     ]
    }
   ],
   "source": [
    "candy_list = ['Jelly Belly','Kit Kat','Double Bubble','Milky Way','Three Musketeers']\n",
    "no_of_items = [10,20,34,74,32]\n",
    "\n",
    "for i in range(len(candy_list)):\n",
    "    for j in range(len(no_of_items)):\n",
    "        print(candy_list[i],'-',no_of_items[i])\n",
    "        break"
   ]
  },
  {
   "cell_type": "markdown",
   "id": "b07df8e4",
   "metadata": {},
   "source": [
    "## Problem [4]:\n",
    "\n",
    "**Problem Statement:**  \n",
    "Running Sum on list\n",
    " - Write a program to print a list after performing running sum on it.\n",
    "\n",
    "**Example:**  \n",
    "Input: `list1 = [1,2,3,4,5,6]`  \n",
    "Output: `[1,3,6,10,15,21]`\n",
    "\n",
    "**Solution:**"
   ]
  },
  {
   "cell_type": "code",
   "execution_count": 336,
   "id": "e072fcbd",
   "metadata": {},
   "outputs": [
    {
     "name": "stdout",
     "output_type": "stream",
     "text": [
      "[1, 3, 6, 10, 15, 21]\n"
     ]
    }
   ],
   "source": [
    "list1 = [1,2,3,4,5,6]\n",
    "new_list = []\n",
    "sum = 0\n",
    "for i in list1:\n",
    "    sum = sum + i\n",
    "    new_list.append(sum)\n",
    "print(new_list)"
   ]
  },
  {
   "cell_type": "markdown",
   "id": "85d8a361",
   "metadata": {},
   "source": [
    "## Problem [5]:\n",
    "\n",
    "**Problem Statement:**  \n",
    "You are given a list of integers. You are asked to make a list by running through elements of the list by adding all elements greater and itself.\n",
    " - i.e. Say given list is [2,4,6,10,1] resultant list will be [22,20,10,23].\n",
    "\n",
    "For 1st element 2 ->> these are greater (4+6+10) values and 2 itself so on adding becomes 22.\n",
    "\n",
    "For 2nd element 4 ->> greater elements are (6, 10) and 4 itself, so on adding 20\n",
    "\n",
    "like wise for all other elememts.\n",
    "\n",
    "[2,4,6,10,1]-->[22,20,16,10,23]\n",
    "\n",
    "\n",
    "**Example:**\n",
    "\n",
    "Input: `[2,4,6,10,1]`  \n",
    "Output: `[22,20,16,10,23]`\n",
    "\n",
    "**Solution:**"
   ]
  },
  {
   "cell_type": "code",
   "execution_count": 113,
   "id": "8d290289",
   "metadata": {},
   "outputs": [
    {
     "name": "stdout",
     "output_type": "stream",
     "text": [
      "[22, 20, 16, 10, 23]\n"
     ]
    }
   ],
   "source": [
    "list1 = [2,4,6,10,1]\n",
    "new_list = []\n",
    "for i in list1:\n",
    "    sum = 0\n",
    "    for j in list1:\n",
    "        if j >= i:\n",
    "            sum += j\n",
    "    new_list.append(sum)\n",
    "print(new_list)\n"
   ]
  },
  {
   "cell_type": "markdown",
   "id": "5df05b12",
   "metadata": {},
   "source": [
    "## Problem [6]:\n",
    "\n",
    "**Problem Statement:**  \n",
    "Find list of common unique items from two list. and show in increasing order\n",
    "\n",
    "**Example:**  \n",
    "Input: `num1 = [23,45,67,78,89,34] &\n",
    "num2 = [34,89,55,56,39,67]`  \n",
    "Output: `[34, 67, 89]`\n",
    "\n",
    "**Solution:**"
   ]
  },
  {
   "cell_type": "code",
   "execution_count": 33,
   "id": "59065258",
   "metadata": {},
   "outputs": [
    {
     "name": "stdout",
     "output_type": "stream",
     "text": [
      "[34, 67, 89]\n"
     ]
    }
   ],
   "source": [
    "num1 = [23,45,67,78,89,34]\n",
    "num2 = [34,89,55,56,39,67]\n",
    "new_list = []\n",
    "for i in num1:\n",
    "    for j in num2:\n",
    "        if i == j:\n",
    "            new_list.append(i)\n",
    "new_list.sort()\n",
    "print(new_list)"
   ]
  },
  {
   "cell_type": "markdown",
   "id": "9a4cc5f1",
   "metadata": {},
   "source": [
    "## Problem [7]:\n",
    "\n",
    "**Problem Statement:**  \n",
    "Sort a list of alphanumeric strings based on product value of numeric character in it. If in any string there is no numeric character take it's product value as 1.\n",
    "\n",
    "**Example:**  \n",
    "Input: `['1ac21', '23fg', '456', '098d','1','kls']`  \n",
    "Output: `['456', '23fg', '1ac21', '1', 'kls', '098d']`\n",
    "\n",
    "**Solution:**"
   ]
  },
  {
   "cell_type": "code",
   "execution_count": 110,
   "id": "10a1194d",
   "metadata": {},
   "outputs": [
    {
     "name": "stdout",
     "output_type": "stream",
     "text": [
      "['456', '23fg', '1ac21', '1', 'kls', '098d']\n"
     ]
    }
   ],
   "source": [
    "L = ['1ac21', '23fg', '456', '098d','1','kls']\n",
    "new_list = []\n",
    "for i in L:\n",
    "    multiply = 1\n",
    "    for j in i:\n",
    "        if j.isdigit():\n",
    "            multiply = multiply * int(j)\n",
    "    new_list.append(multiply)\n",
    "paired_list = list(zip(L,new_list))\n",
    "sorted_list = sorted(paired_list, key=lambda x: x[1], reverse=True)\n",
    "result = [item[0] for item in sorted_list]\n",
    "print(result)"
   ]
  },
  {
   "cell_type": "markdown",
   "id": "6c501afa",
   "metadata": {},
   "source": [
    "## Problem [8]:\n",
    "\n",
    "**Problem Statement:**  \n",
    "Split String of list on K character.\n",
    "\n",
    "**Example:**  \n",
    "Input: `['CampusX is a channel', 'for data-science', 'aspirants.']`  \n",
    "Output: `['CampusX', 'is', 'a', 'channel', 'for', 'data-science', 'aspirants.']`\n",
    "\n",
    "**Solution:**"
   ]
  },
  {
   "cell_type": "code",
   "execution_count": null,
   "id": "224becf8",
   "metadata": {},
   "outputs": [
    {
     "name": "stdout",
     "output_type": "stream",
     "text": [
      "['CampusX', 'is', 'a', 'channel', 'for', 'data-science', 'aspirants.']\n"
     ]
    }
   ],
   "source": [
    "list1 = ['CampusX is a channel', 'for data-science', 'aspirants.']\n",
    "new_list = []\n",
    "for i in list1:\n",
    "    new_list.extend(i.split())\n",
    "print(new_list)"
   ]
  },
  {
   "cell_type": "markdown",
   "id": "661625e2",
   "metadata": {},
   "source": [
    "## Problem [9]:\n",
    "\n",
    "**Problem Statement:**  \n",
    "Convert Character Matrix to single String using string comprehension.\n",
    "\n",
    "**Example:**  \n",
    "Input: `[['c', 'a', 'm', 'p', 'u', 'x'], ['i', 's'], ['b', 'e', 's', 't'], ['c', 'h', 'a', 'n', 'n', 'e', 'l']]`  \n",
    "Output: `campux is best channel`\n",
    "\n",
    "**Solution:**"
   ]
  },
  {
   "cell_type": "code",
   "execution_count": 75,
   "id": "599006b2",
   "metadata": {},
   "outputs": [
    {
     "name": "stdout",
     "output_type": "stream",
     "text": [
      "campux is best channel "
     ]
    }
   ],
   "source": [
    "list1 = [['c', 'a', 'm', 'p', 'u', 'x'], ['i', 's'], ['b', 'e', 's', 't'], ['c', 'h', 'a', 'n', 'n', 'e', 'l']]\n",
    "for i in list1:\n",
    "    print(''.join(i),end=' ')"
   ]
  },
  {
   "cell_type": "markdown",
   "id": "68682232",
   "metadata": {},
   "source": [
    "## Problem [10]:\n",
    "\n",
    "**Problem Statement:**  \n",
    "Add Space between Potential Words.\n",
    "\n",
    "**Example:**  \n",
    "Input: `['campusxIs', 'bestFor', 'dataScientist']`  \n",
    "Output: `['campusx Is', 'best For', 'data Scientist']`\n",
    "\n",
    "**Solution:**"
   ]
  },
  {
   "cell_type": "code",
   "execution_count": 109,
   "id": "63d34dd5",
   "metadata": {},
   "outputs": [
    {
     "name": "stdout",
     "output_type": "stream",
     "text": [
      "['campusx Is', 'best For', 'data Scientist']\n"
     ]
    }
   ],
   "source": [
    "list1 = ['campusxIs', 'bestFor', 'dataScientist']\n",
    "new_list = []\n",
    "for i in list1:\n",
    "    new_string = ''\n",
    "    for j in i:\n",
    "        if j.isupper():\n",
    "            new_string = new_string + (' '+j)\n",
    "        else:\n",
    "            new_string = new_string + j\n",
    "    new_list.append(new_string)\n",
    "print(new_list)"
   ]
  },
  {
   "cell_type": "markdown",
   "id": "11a59561",
   "metadata": {},
   "source": [
    "## Problem [11]:\n",
    "\n",
    "**Problem Statement:**  \n",
    "Write a program that can perform union operation on 2 lists\n",
    "\n",
    "**Example:**  \n",
    "Input: `[1,2,3,4,5,1] &\n",
    "[2,3,5,7,8]`  \n",
    "Output: `[1,2,3,4,5,7,8]`\n",
    "\n",
    "**Solution:**"
   ]
  },
  {
   "cell_type": "code",
   "execution_count": null,
   "id": "fa4b0033",
   "metadata": {},
   "outputs": [
    {
     "name": "stdout",
     "output_type": "stream",
     "text": [
      "[1, 2, 3, 4, 5, 7, 8]\n"
     ]
    }
   ],
   "source": [
    "list1 = [1,2,3,4,5,1]\n",
    "list2 = [2,3,5,7,8]\n",
    "new_list = []\n",
    "for i in set(list1):\n",
    "    new_list.append(i)\n",
    "for j in list2:\n",
    "    if j not in list1:\n",
    "        new_list.append(j)\n",
    "print(new_list)"
   ]
  },
  {
   "cell_type": "markdown",
   "id": "57a32118",
   "metadata": {},
   "source": [
    "## Problem [12]:\n",
    "\n",
    "**Problem Statement:** \n",
    "Write a program that can find the max number of each row of a matrix\n",
    "\n",
    "**Example:**  \n",
    "Input: `[[1,2,3],[4,5,6],[7,8,9]]`  \n",
    "Output: `[3,6,9]`\n",
    "\n",
    "**Solution:**"
   ]
  },
  {
   "cell_type": "code",
   "execution_count": 81,
   "id": "0f0e4e78",
   "metadata": {},
   "outputs": [
    {
     "name": "stdout",
     "output_type": "stream",
     "text": [
      "[3, 6, 9]\n"
     ]
    }
   ],
   "source": [
    "list1 = [[1,2,3],[4,5,6],[7,8,9]]\n",
    "new_list = []\n",
    "for i in list1:\n",
    "    new_list.append(max(i))\n",
    "print(new_list)"
   ]
  },
  {
   "cell_type": "markdown",
   "id": "803f697d",
   "metadata": {},
   "source": [
    "## Problem [13]:\n",
    "\n",
    "**Problem Statement:**  \n",
    "Write a list comprehension to print the following matrix\n",
    "\n",
    "**Example:**  \n",
    "Input: `List comprehension to print this matrix`  \n",
    "Output: `[[0, 1, 2], [3, 4, 5], [6, 7, 8]]`\n",
    "\n",
    "**Solution:**"
   ]
  },
  {
   "cell_type": "code",
   "execution_count": 99,
   "id": "60bfa372",
   "metadata": {},
   "outputs": [
    {
     "name": "stdout",
     "output_type": "stream",
     "text": [
      "[[0, 1, 2], [3, 4, 5], [6, 7, 8]]\n"
     ]
    }
   ],
   "source": [
    "num_col = 3\n",
    "num_rows = 3\n",
    "result = [[i * num_col + j for j in range(num_col)] for i in range(num_rows)]\n",
    "print(result)"
   ]
  },
  {
   "cell_type": "markdown",
   "id": "a33a0199",
   "metadata": {},
   "source": [
    "## Problem [14]:\n",
    "\n",
    "**Problem Statement:**  \n",
    "Write a list comprehension that can transpose a given matrix\n",
    "\n",
    "**Example:**  \n",
    "Input: `matrix = [\n",
    "[1,2,3],\n",
    "[4,5,6],\n",
    "[7,8,9]\n",
    "]`  \n",
    "Output: `[1, 4, 7]\n",
    "[2, 5, 8]\n",
    "[3, 6, 9]`\n",
    "\n",
    "**Solution:**"
   ]
  },
  {
   "cell_type": "code",
   "execution_count": null,
   "id": "7328855d",
   "metadata": {},
   "outputs": [
    {
     "name": "stdout",
     "output_type": "stream",
     "text": [
      "[[1, 4, 7], [2, 5, 8], [3, 6, 9]]\n"
     ]
    }
   ],
   "source": [
    "matrix = [\n",
    "[1,2,3],\n",
    "[4,5,6],\n",
    "[7,8,9]\n",
    "]\n",
    "transposed = [[row[i] for row in matrix] for i in range(len(matrix[0]))]\n",
    "print(transposed)"
   ]
  },
  {
   "cell_type": "markdown",
   "id": "2d67b1a9",
   "metadata": {},
   "source": [
    "## Problem [15]:\n",
    "\n",
    "**Problem Statement:**  \n",
    "Write a list comprehension that can flatten a nested list\n",
    "\n",
    "**Example:**  \n",
    "Input: `matrix = [\n",
    "[1,2,3],\n",
    "[4,5,6],\n",
    "[7,8,9]\n",
    "]`  \n",
    "Output: `[1, 2, 3, 4, 5, 6, 7, 8, 9]`\n",
    "\n",
    "**Solution:**"
   ]
  },
  {
   "cell_type": "code",
   "execution_count": 94,
   "id": "0ad34649",
   "metadata": {},
   "outputs": [
    {
     "name": "stdout",
     "output_type": "stream",
     "text": [
      "[1, 2, 3, 4, 5, 6, 7, 8, 9]\n"
     ]
    }
   ],
   "source": [
    "matrix = [\n",
    "[1,2,3],\n",
    "[4,5,6],\n",
    "[7,8,9]\n",
    "]\n",
    "new_list = []\n",
    "for i in matrix:\n",
    "    for j in i:\n",
    "        new_list.append(j)\n",
    "print(new_list)"
   ]
  }
 ],
 "metadata": {
  "kernelspec": {
   "display_name": "exploratory_data_analysis",
   "language": "python",
   "name": "python3"
  },
  "language_info": {
   "codemirror_mode": {
    "name": "ipython",
    "version": 3
   },
   "file_extension": ".py",
   "mimetype": "text/x-python",
   "name": "python",
   "nbconvert_exporter": "python",
   "pygments_lexer": "ipython3",
   "version": "3.13.5"
  }
 },
 "nbformat": 4,
 "nbformat_minor": 5
}
