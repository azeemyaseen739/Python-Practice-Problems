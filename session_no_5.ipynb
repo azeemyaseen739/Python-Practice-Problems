{
 "cells": [
  {
   "cell_type": "markdown",
   "id": "e287edc6",
   "metadata": {},
   "source": [
    "# Python Problem-Solving Portfolio\n",
    "### By Azeem\n",
    "\n",
    "Welcome to my problem-solving journey! This notebook contains my solutions to various Python programming problems, ranging from basics to advanced topics.\n",
    "\n",
    "**Goal:** Improve logical thinking, code clarity, and problem-solving skills."
   ]
  },
  {
   "cell_type": "markdown",
   "id": "a52e148b",
   "metadata": {},
   "source": [
    "## _**Problems Related to Tuple:-**_\n",
    "## Problem [1]:\n",
    "\n",
    "**Problem Statement:**  \n",
    "join Tuples if similar initial element\n",
    " - While working with Python tuples, we can have a problem in which we need to perform concatenation of records from the similarity of initial element. This problem can have applications in data domains such as Data Science.\n",
    "\n",
    "**Example:**  \n",
    "Input: `test_list = [(5, 6), (5, 7), (5, 8), (6, 10), (7, 13)] `  \n",
    "Output: `Output : [(5, 6, 7, 8), (6, 10), (7, 13)] `\n",
    "\n",
    "**Solution:**"
   ]
  },
  {
   "cell_type": "code",
   "execution_count": 31,
   "id": "e12967f0",
   "metadata": {},
   "outputs": [
    {
     "name": "stdout",
     "output_type": "stream",
     "text": [
      "[(5, 6, 7, 8), (6, 10), (7, 13)]\n"
     ]
    }
   ],
   "source": [
    "test_list = [(5, 6), (5, 7), (5, 8), (6, 10), (7, 13)]\n",
    "my_dict = {}\n",
    "for tup in test_list:\n",
    "    key = tup[0]\n",
    "    value = tup[1]\n",
    "    if key in my_dict:\n",
    "        my_dict[key].append(value)\n",
    "    else:\n",
    "        my_dict[key] = [value]\n",
    "result_list = []\n",
    "for key, values in my_dict.items():\n",
    "    merged_tuple = (key,) + tuple(values)\n",
    "    result_list.append(merged_tuple)\n",
    "print(result_list)"
   ]
  },
  {
   "cell_type": "markdown",
   "id": "d8a0ea9e",
   "metadata": {},
   "source": [
    "## Problem [2]:\n",
    "\n",
    "**Problem Statement:**  \n",
    "Multiply Adjacent elements (both side) and take sum of right and left side multiplication result.\n",
    " - Resultant tuple after multiplication :\\\n",
    "   (1*5, 1*5+5*7, 7*5 + 7*8, 8*7 + 8*10, 10*8) -> (5, 40, 91, 136, 80)\n",
    "\n",
    "**Example:**  \n",
    "Input: `The original tuple : (1, 5, 7, 8, 10)`  \n",
    "Output: `output-(5, 40, 91, 136, 80)`\n",
    "\n",
    "**Solution:**"
   ]
  },
  {
   "cell_type": "code",
   "execution_count": 58,
   "id": "d6b2a305",
   "metadata": {},
   "outputs": [
    {
     "name": "stdout",
     "output_type": "stream",
     "text": [
      "(5, 40, 91, 136, 80)\n"
     ]
    }
   ],
   "source": [
    "t = (1,5,7,8,10)\n",
    "n = len(t)\n",
    "result_list = []\n",
    "\n",
    "for i in range(n):\n",
    "    if i == 0:\n",
    "        value = t[i] * t[i+1]\n",
    "    elif i == n-1:\n",
    "        value = t[i-5] * t[i-6]\n",
    "    else:\n",
    "        value =  (t[i-1] * t[i]) + (t[i] * t[i+1])\n",
    "    result_list.append(value)\n",
    "    \n",
    "final_result = tuple(result_list)\n",
    "print(final_result)"
   ]
  },
  {
   "cell_type": "markdown",
   "id": "75eecede",
   "metadata": {},
   "source": [
    "## Problem [3]:\n",
    "\n",
    "**Problem Statement:**  \n",
    "Check is tuples are same or not?\n",
    "\n",
    "**Example:**  \n",
    "Input: `t1 = (1,2,3,0) &\n",
    "t2 = (0,1,2,3)`  \n",
    "Output: `t1 and t2 are not same`\n",
    "\n",
    "**Solution:**"
   ]
  },
  {
   "cell_type": "code",
   "execution_count": 86,
   "id": "b3b3146c",
   "metadata": {},
   "outputs": [
    {
     "name": "stdout",
     "output_type": "stream",
     "text": [
      "not same - different at index 0\n"
     ]
    }
   ],
   "source": [
    "t1 = (1, 2, 3, 0)\n",
    "t2 = (0, 1, 2, 3)\n",
    "\n",
    "if len(t1) != len(t2):\n",
    "    print('not same - different length')\n",
    "else:\n",
    "    for i in range(len(t1)):\n",
    "        if t1[i] != t2[i]:\n",
    "            print('not same - different at index',i)\n",
    "            break\n",
    "    else:\n",
    "        print('both same')"
   ]
  },
  {
   "cell_type": "markdown",
   "id": "15a41018",
   "metadata": {},
   "source": [
    "## Problem [4]:\n",
    "\n",
    "**Problem Statement:**  \n",
    "Count no of tuples, list and set from a list\n",
    "\n",
    "**Example:**  \n",
    "Input: `list1 = [{'hi', 'bye'},{'Geeks', 'forGeeks'},('a', 'b'),['hi', 'bye'],['a', 'b']]`  \n",
    "Output: `List-2 -\n",
    "Set-2 -\n",
    "Tuples-1`\n",
    "\n",
    "**Solution:**"
   ]
  },
  {
   "cell_type": "code",
   "execution_count": 88,
   "id": "4761d145",
   "metadata": {},
   "outputs": [
    {
     "name": "stdout",
     "output_type": "stream",
     "text": [
      "List - 2\n",
      "Set - 2\n",
      "Tuple - 1\n"
     ]
    }
   ],
   "source": [
    "list1 = [{'hi', 'bye'},{'Geeks', 'forGeeks'},('a', 'b'),['hi', 'bye'],['a', 'b']]\n",
    "\n",
    "no_list = 0\n",
    "no_set = 0\n",
    "no_tuple = 0\n",
    "\n",
    "for element in list1:\n",
    "    if type(element) == set:\n",
    "        no_set = no_set + 1\n",
    "    elif type(element) == list:\n",
    "        no_list = no_list + 1\n",
    "    elif type(element) == tuple:\n",
    "        no_tuple = no_tuple + 1\n",
    "\n",
    "print(f'List - {no_list}')\n",
    "print(f'Set - {no_set}')\n",
    "print(f'Tuple - {no_tuple}')"
   ]
  },
  {
   "cell_type": "markdown",
   "id": "a34cad2e",
   "metadata": {},
   "source": [
    "## Problem [5]:\n",
    "\n",
    "**Problem Statement:**  \n",
    "Shortlist Students for a Job role\n",
    " - Ask user to input students record and store in tuples for each record. Then Ask user to input three things he wants in the candidate- Primary Skill, Higher Education, Year of Graduation.\n",
    " - Show every students record in form of tuples if matches all required criteria.\n",
    " - It is assumed that there will be only one primry skill.\n",
    " - If no such candidate found, print No such candidate\n",
    "\n",
    "**Example:**  \n",
    "Input:\n",
    "```\n",
    "Enter No of records- 2\n",
    "Enter Details of student-1\n",
    "Enter Student name- Manohar\n",
    "Enter Higher Education- B.Tech\n",
    "Enter Primary Skill- Python\n",
    "Enter Year of Graduation- 2022\n",
    "Enter Details of student-2\n",
    "Enter Student name- Ponian\n",
    "Enter Higher Education- B.Sc.\n",
    "Enter Primary Skill- C++\n",
    "Enter Year of Graduation- 2020\n",
    "\n",
    "Enter Job Role Requirement;\n",
    "Enter Skill- Python\n",
    "Enter Higher Education- B.Tech\n",
    "Enter Year of Graduation- 2022\n",
    "```\n",
    "Output: `('Manohar', 'B.tech', 'Python', '2022')`\n",
    "\n",
    "\n",
    "**Solution:**"
   ]
  },
  {
   "cell_type": "code",
   "execution_count": 93,
   "id": "a85e32c3",
   "metadata": {},
   "outputs": [
    {
     "name": "stdout",
     "output_type": "stream",
     "text": [
      "Enter Details of Student = 1\n",
      "\n",
      "Enter Job Role Requirement:\n",
      "('azeem', 'ics', 'python', '2020')\n"
     ]
    }
   ],
   "source": [
    "n = int(input('Enter No of Records = '))\n",
    "students = []\n",
    "\n",
    "for i in range(n):\n",
    "    print(f'Enter Details of Student = {i+1}')\n",
    "    name = input('Enter the Student Name = ')\n",
    "    education = input('Enter the Higher Education = ')\n",
    "    skill = input('Enter the Primary Skill = ')\n",
    "    year_graduation = input('Enter the Year of Graduation = ')\n",
    "    student_tuple = (name,education,skill,year_graduation)\n",
    "    students.append(student_tuple)\n",
    "\n",
    "print('\\nEnter Job Role Requirement:')\n",
    "req_education = input('Enter Higher Education = ')\n",
    "req_skill = input('Enter Skill = ')\n",
    "req_year = input('Enter Year of Graduation = ')\n",
    "\n",
    "matched = []\n",
    "for student in students:\n",
    "    if (student[1] == req_education and\n",
    "        student[2] == req_skill and\n",
    "        student[3] == req_year):\n",
    "        matched.append(student)\n",
    "\n",
    "if not matched:\n",
    "    print('No Such Candidate!')\n",
    "else:\n",
    "    for student in matched:\n",
    "        print(student)"
   ]
  },
  {
   "cell_type": "markdown",
   "id": "aa4c5545",
   "metadata": {},
   "source": [
    "## _**Problems Related to Set:-**_\n",
    "## Problem [1]:\n",
    "\n",
    "**Problem Statement:**  \n",
    "Write a program to find set of common elements in three lists using sets.\n",
    "\n",
    "**Example:**  \n",
    "Input: \n",
    "```\n",
    "ar1 = [1, 5, 10, 20, 40, 80]\n",
    "ar2 = [6, 7, 20, 80, 100]\n",
    "ar3 = [3, 4, 15, 20, 30, 70, 80, 120]  \n",
    "```\n",
    "Output: `[80, 20]`\n",
    "\n",
    "**Solution:**"
   ]
  },
  {
   "cell_type": "code",
   "execution_count": 99,
   "id": "fc5e73f0",
   "metadata": {},
   "outputs": [
    {
     "name": "stdout",
     "output_type": "stream",
     "text": [
      "{80, 20}\n"
     ]
    }
   ],
   "source": [
    "ar1 = [1, 5, 10, 20, 40, 80]\n",
    "ar2 = [6, 7, 20, 80, 100]\n",
    "ar3 = [3, 4, 15, 20, 30, 70, 80, 120]\n",
    "ar1 = set(ar1)\n",
    "ar2 = set(ar2)\n",
    "ar3 = set(ar3)\n",
    "print(ar1 & ar2 & ar3)"
   ]
  },
  {
   "cell_type": "markdown",
   "id": "40a63e69",
   "metadata": {},
   "source": [
    "## Problem [2]:\n",
    "\n",
    "**Problem Statement:**  \n",
    "Write a program to count unique number of vowels using sets in a given string. Lowercase and upercase vowels will be taken as different.\n",
    "\n",
    "**Example:**  \n",
    "Input: `Str1 = \"hands-on data science mentorship progrAm with live classes at affordable fee only on CampusX\"`  \n",
    "Output: `No of unique vowels-6`\n",
    "\n",
    "**Solution:**"
   ]
  },
  {
   "cell_type": "code",
   "execution_count": 119,
   "id": "c6eade0e",
   "metadata": {},
   "outputs": [
    {
     "name": "stdout",
     "output_type": "stream",
     "text": [
      "the no of unique vowels is 6\n",
      "{'u', 'i', 'A', 'a', 'e', 'o'}\n"
     ]
    }
   ],
   "source": [
    "Str1 = \"hands-on data science mentorship progrAm with live classes at affordable fee only on CampusX\"\n",
    "unique_vowel = set()\n",
    "\n",
    "for i in Str1:\n",
    "    if i in 'aeiouAEIOU':\n",
    "        unique_vowel.add(i)\n",
    "\n",
    "final_result = len(unique_vowel)\n",
    "print(f'the no of unique vowels is {final_result}')\n",
    "print(unique_vowel)"
   ]
  },
  {
   "cell_type": "markdown",
   "id": "40afd9db",
   "metadata": {},
   "source": [
    "## Problem [3]:\n",
    "\n",
    "**Problem Statement:**  \n",
    "Write a program to Check if a given string is binary string of or not.\n",
    " - A string is said to be binary if it's consists of only two unique characters.\n",
    "\n",
    "Take string input from user.\n",
    "\n",
    "**Example:**  \n",
    "```\n",
    "Input: str = \"01010101010\"\n",
    "Output: Yes\n",
    "\n",
    "Input: str = \"1222211\"\n",
    "Output: Yes\n",
    "\n",
    "Input: str = \"Campusx\"\n",
    "Output: No\n",
    "\n",
    "```\n",
    "**Solution:**"
   ]
  },
  {
   "cell_type": "code",
   "execution_count": 131,
   "id": "d8ee42df",
   "metadata": {},
   "outputs": [
    {
     "name": "stdout",
     "output_type": "stream",
     "text": [
      "it is not a binary string\n"
     ]
    }
   ],
   "source": [
    "binary_str = input('enter the string to know it is binary or not: ')\n",
    "binary_str = set(binary_str)\n",
    "\n",
    "if len(binary_str) == 2:\n",
    "    print('it is a binary string!')\n",
    "else:\n",
    "    print('it is not a binary string')"
   ]
  },
  {
   "cell_type": "markdown",
   "id": "91e4491c",
   "metadata": {},
   "source": [
    "## Problem [4]:\n",
    "\n",
    "**Problem Statement:**  \n",
    "find union of n arrays.\n",
    "\n",
    "**Example:**  \n",
    "Input: \n",
    "```\n",
    "[[1, 2, 2, 4, 3, 6],\n",
    " [5, 1, 3, 4],\n",
    " [9, 5, 7, 1],\n",
    " [2, 4, 1, 3]]  \n",
    "\n",
    "```\n",
    "Output: `[1, 2, 3, 4, 5, 6, 7, 9]`\n",
    "\n",
    "**Solution:**"
   ]
  },
  {
   "cell_type": "code",
   "execution_count": 134,
   "id": "8e52c80f",
   "metadata": {},
   "outputs": [
    {
     "name": "stdout",
     "output_type": "stream",
     "text": [
      "[1, 2, 3, 4, 5, 6, 7, 9]\n"
     ]
    }
   ],
   "source": [
    "arrays = [[1, 2, 2, 4, 3, 6],\n",
    " [5, 1, 3, 4],\n",
    " [9, 5, 7, 1],\n",
    " [2, 4, 1, 3]]\n",
    "union_set = set()\n",
    "\n",
    "for arr in arrays:\n",
    "    for num in arr:\n",
    "        union_set.add(num)\n",
    "\n",
    "final_result = sorted(union_set)\n",
    "print(final_result)"
   ]
  },
  {
   "cell_type": "markdown",
   "id": "52ae5637",
   "metadata": {},
   "source": [
    "## Problem [10]:\n",
    "\n",
    "**Problem Statement:**  \n",
    "ntersection of two lists. Intersection of two list means we need to take all those elements which are common to both of the initial lists and store them into another list. Only use using list-comprehension.\n",
    "\n",
    "**Example:**  \n",
    "Input: `lst1 = {15, 9, 10, 56, 23, 78, 5, 4, 9} &\n",
    "lst2 = {9, 4, 5, 36, 47, 26, 10, 45, 87}`  \n",
    "Output: `[9, 10, 4, 5]`\n",
    "\n",
    "**Example 2:**\n",
    "\n",
    "Input:\n",
    "```\n",
    "lst1 = {4, 9, 1, 17, 11, 26, 28, 54, 69}\n",
    "lst2 = {9, 9, 74, 21, 45, 11, 63, 28, 26}\n",
    "```\n",
    "Output:`[9, 11, 26, 28]`\\\n",
    "**Solution:**"
   ]
  },
  {
   "cell_type": "code",
   "execution_count": 145,
   "id": "1d150933",
   "metadata": {},
   "outputs": [
    {
     "name": "stdout",
     "output_type": "stream",
     "text": [
      "[4, 5, 9, 10]\n"
     ]
    }
   ],
   "source": [
    "lst1 = {15, 9, 10, 56, 23, 78, 5, 4, 9}\n",
    "lst2 = {9, 4, 5, 36, 47, 26, 10, 45, 87}\n",
    "result_list = []\n",
    "\n",
    "{result_list.append(i) for i in lst1 for j in lst2 if i == j}\n",
    "print(result_list)"
   ]
  },
  {
   "cell_type": "code",
   "execution_count": 146,
   "id": "30f14fc7",
   "metadata": {},
   "outputs": [
    {
     "name": "stdout",
     "output_type": "stream",
     "text": [
      "[9, 11, 26, 28]\n"
     ]
    }
   ],
   "source": [
    "lst1 = {4, 9, 1, 17, 11, 26, 28, 54, 69}\n",
    "lst2 = {9, 9, 74, 21, 45, 11, 63, 28, 26}\n",
    "result_list = []\n",
    "\n",
    "{result_list.append(i) for i in lst1 for j in lst2 if i == j}\n",
    "print(result_list)"
   ]
  },
  {
   "cell_type": "markdown",
   "id": "278ad884",
   "metadata": {},
   "source": [
    "## _**Problems Related to Dictionary:-**_\n",
    "## Problem [1]:\n",
    "\n",
    "**Problem Statement:**  \n",
    "Key with maximum unique values\n",
    " - Given a dictionary with values list, extract key whose value has most unique values.\n",
    "\n",
    "**Example:**  \n",
    "Input: `test_dict = {\"CampusX\" : [5, 7, 9, 4, 0], \"is\" : [6, 7, 4, 3, 3], \"Best\" : [9, 9, 6, 5, 5]}`  \n",
    "Output: `CampusX`\n",
    "\n",
    "**Example 2:**\n",
    "\n",
    "Input: `test_dict = {\"CampusX\" : [5, 7, 7, 7, 7], \"is\" : [6, 7, 7, 7], \"Best\" : [9, 9, 6, 5, 5]}`\n",
    "\n",
    "Output: `Best`\\\n",
    "**Solution:**"
   ]
  },
  {
   "cell_type": "code",
   "execution_count": 162,
   "id": "61ecade2",
   "metadata": {},
   "outputs": [
    {
     "name": "stdout",
     "output_type": "stream",
     "text": [
      "CampusX\n"
     ]
    }
   ],
   "source": [
    "test_dict = {\"CampusX\" : [5, 7, 9, 4, 0], \"is\" : [6, 7, 4, 3, 3], \"Best\" : [9, 9, 6, 5, 5]}\n",
    "max_unique = -1\n",
    "max_key = None\n",
    "\n",
    "for key, value_list in test_dict.items():\n",
    "    unique_count = len(set(value_list))\n",
    "    if unique_count > max_unique:\n",
    "        max_unique = unique_count\n",
    "        max_key = key\n",
    "\n",
    "print(max_key)\n"
   ]
  },
  {
   "cell_type": "code",
   "execution_count": 164,
   "id": "872bf25a",
   "metadata": {},
   "outputs": [
    {
     "name": "stdout",
     "output_type": "stream",
     "text": [
      "Best\n"
     ]
    }
   ],
   "source": [
    "test_dict = {\"CampusX\" : [5, 7, 7, 7, 7], \"is\" : [6, 7, 7, 7], \"Best\" : [9, 9, 6, 5, 5]}\n",
    "max_unique = 0\n",
    "max_key = None\n",
    "\n",
    "for key, value_list in test_dict.items():\n",
    "    unique_count = len(set(value_list))\n",
    "    if unique_count > max_unique:\n",
    "        max_unique = unique_count\n",
    "        max_key = key\n",
    "\n",
    "print(max_key)"
   ]
  },
  {
   "cell_type": "markdown",
   "id": "e68ba6c3",
   "metadata": {},
   "source": [
    "## Problem [2]:\n",
    "\n",
    "**Problem Statement:**  \n",
    "Replace words from Dictionary. Given String, replace it’s words from lookup dictionary.\n",
    "\n",
    "**Example:**  \n",
    "Input:\n",
    "```\n",
    "test_str = 'CampusX best for DS students.'\n",
    "repl_dict = {\"best\" : \"is the best channel\", \"DS\" : \"Data-Science\"}\n",
    "\n",
    "```\n",
    "Output: `CampusX is the best channel for Data-Science students`\n",
    "\n",
    "**Example 2:**\n",
    "\n",
    "Input:\n",
    "\n",
    "```\n",
    "test_str = 'CampusX best for DS students.'\n",
    "repl_dict = {\"good\" : \"is the best channel\", \"ds\" : \"Data-Science\"}\n",
    "\n",
    "```\n",
    "Output: `CampusX best for DS students`\n",
    "\n",
    "**Solution:**"
   ]
  },
  {
   "cell_type": "code",
   "execution_count": 176,
   "id": "8a93508c",
   "metadata": {},
   "outputs": [
    {
     "name": "stdout",
     "output_type": "stream",
     "text": [
      "CampusX is the best channel for Data-Science students.\n"
     ]
    }
   ],
   "source": [
    "test_str = 'CampusX best for DS students.'.split()\n",
    "repl_dict = {\"best\" : \"is the best channel\", \"DS\" : \"Data-Science\"}\n",
    "\n",
    "new_words = []\n",
    "for word in test_str:\n",
    "    if word in repl_dict:\n",
    "        new_words.append(repl_dict[word])\n",
    "    else:\n",
    "        new_words.append(word)\n",
    "\n",
    "final_result = ' '.join(new_words)\n",
    "print(final_result)"
   ]
  },
  {
   "cell_type": "code",
   "execution_count": 177,
   "id": "f5bf3d32",
   "metadata": {},
   "outputs": [
    {
     "name": "stdout",
     "output_type": "stream",
     "text": [
      "CampusX is the best channel for Data-Science students.\n"
     ]
    }
   ],
   "source": [
    "test_str = 'CampusX good for ds students.'.split()\n",
    "repl_dict = {\"good\" : \"is the best channel\", \"ds\" : \"Data-Science\"}\n",
    "new_words = []\n",
    "\n",
    "for word in test_str:\n",
    "    if word in repl_dict:\n",
    "        new_words.append(repl_dict[word])\n",
    "    else:\n",
    "        new_words.append(word)\n",
    "\n",
    "final_result = ' '.join(new_words)\n",
    "print(final_result)"
   ]
  },
  {
   "cell_type": "markdown",
   "id": "cf3859cb",
   "metadata": {},
   "source": [
    "## Problem [3]:\n",
    "\n",
    "**Problem Statement:**  \n",
    "Convert List to List of dictionaries. Given list values and keys list, convert these values to key value pairs in form of list of dictionaries.\n",
    "\n",
    "**Example:**  \n",
    "Input: `test_list = [\"DataScience\", 3, \"is\", 8] &\n",
    "key_list = [\"name\", \"id\"]`  \n",
    "Output: `[{'name': 'DataScience', 'id': 3}, {'name': 'is', 'id': 8}]`\n",
    "\n",
    "**Example 2:**\n",
    "\n",
    "Input:\n",
    "```\n",
    "test_list = [\"CampusX\", 10]\n",
    "key_list = [\"name\", \"id\"]\n",
    "```\n",
    "Output: `[{'name': 'CampusX', 'id': 10}]`\n",
    "\n",
    "**Solution:**"
   ]
  },
  {
   "cell_type": "code",
   "execution_count": 180,
   "id": "b327be03",
   "metadata": {},
   "outputs": [
    {
     "name": "stdout",
     "output_type": "stream",
     "text": [
      "[{'name': 'DataScience', 'id': 3}, {'name': 'is', 'id': 8}]\n"
     ]
    }
   ],
   "source": [
    "test_list = [\"DataScience\", 3, \"is\", 8]\n",
    "key_list = [\"name\", \"id\"]\n",
    "result_list = []\n",
    "\n",
    "for i in range(0,len(test_list),2):\n",
    "    d = {\n",
    "        key_list[0]: test_list[i],\n",
    "        key_list[1]: test_list[i+1]\n",
    "    }\n",
    "    result_list.append(d)\n",
    "    \n",
    "print(result_list)"
   ]
  },
  {
   "cell_type": "code",
   "execution_count": 181,
   "metadata": {},
   "outputs": [
    {
     "name": "stdout",
     "output_type": "stream",
     "text": [
      "[{'name': 'CampusX', 'id': 10}]\n"
     ]
    }
   ],
   "source": [
    "test_list = [\"CampusX\", 10]\n",
    "key_list = [\"name\", \"id\"]\n",
    "result_list = []\n",
    "\n",
    "for i in range(0,len(test_list),2):\n",
    "    d = {\n",
    "        key_list[0]: test_list[i],\n",
    "        key_list[1]: test_list[i+1]\n",
    "    }\n",
    "    result_list.append(d)\n",
    "\n",
    "print(result_list)"
   ]
  },
  {
   "cell_type": "markdown",
   "id": "e48fc04a",
   "metadata": {},
   "source": [
    "## Problem [4]:\n",
    "\n",
    "**Problem Statement:**  \n",
    " Convert a list of Tuples into Dictionary.\n",
    "\n",
    "**Example:**\n",
    " \n",
    "Input: `[(\"akash\", 10), (\"gaurav\", 12), (\"anand\", 14), (\"suraj\", 20), (\"akhil\", 25), (\"ashish\", 30)]`  \n",
    "Output: `{'akash': [10], 'gaurav': [12], 'anand': [14], 'suraj': [20], 'akhil': [25], 'ashish': [30]}`\n",
    "\n",
    "**Example 2:**\n",
    "\n",
    "Input: `[('A', 1), ('B', 2), ('C', 3)]`\\\n",
    "Output: `{'A': [1], 'B': [2], 'C': [3]}`\n",
    "\n",
    "**Solution:**"
   ]
  },
  {
   "cell_type": "code",
   "execution_count": 185,
   "id": "06485aa1",
   "metadata": {},
   "outputs": [
    {
     "name": "stdout",
     "output_type": "stream",
     "text": [
      "{'akash': [10], 'gaurav': [12], 'anand': [14], 'suraj': [20], 'akhil': [25], 'ashish': [30]}\n"
     ]
    }
   ],
   "source": [
    "list_of_tup = [(\"akash\", 10), (\"gaurav\", 12), (\"anand\", 14), (\"suraj\", 20), (\"akhil\", 25), (\"ashish\", 30)]\n",
    "my_dict = {}\n",
    "\n",
    "for tup in list_of_tup:\n",
    "    key = tup[0]\n",
    "    value = tup[1]\n",
    "    my_dict[key] = [value]\n",
    "\n",
    "print(my_dict)\n"
   ]
  },
  {
   "cell_type": "code",
   "execution_count": 186,
   "id": "6cf2b474",
   "metadata": {},
   "outputs": [
    {
     "name": "stdout",
     "output_type": "stream",
     "text": [
      "{'A': [1], 'B': [2], 'C': [3]}\n"
     ]
    }
   ],
   "source": [
    "list_of_tup = [('A', 1), ('B', 2), ('C', 3)]\n",
    "my_dict = {}\n",
    "\n",
    "for tup in list_of_tup:\n",
    "    key = tup[0]\n",
    "    value = tup[1]\n",
    "    my_dict[key] = [value]\n",
    "\n",
    "print(my_dict)"
   ]
  },
  {
   "cell_type": "markdown",
   "id": "549355c1",
   "metadata": {},
   "source": [
    "## Problem [5]:\n",
    "\n",
    "**Problem Statement:**  \n",
    "Sort Dictionary key and values List.\n",
    "\n",
    "**Example:** \n",
    "\n",
    "Input: `{'c': [3], 'b': [12, 10], 'a': [19, 4]}`  \n",
    "\n",
    "Output: `{'a': [4, 19], 'b': [10, 12], 'c': [3]}`\n",
    "\n",
    "**Example 2:**\n",
    "\n",
    "Input: `{'c': [10, 34, 3]}`\n",
    "\n",
    "Output: `{'c': [3, 10, 34]}`\n",
    "\n",
    "**Solution:**"
   ]
  },
  {
   "cell_type": "code",
   "execution_count": 200,
   "id": "0e393b33",
   "metadata": {},
   "outputs": [
    {
     "name": "stdout",
     "output_type": "stream",
     "text": [
      "{'a': [4, 19], 'b': [10, 12], 'c': [3]}\n"
     ]
    }
   ],
   "source": [
    "input_dict = {'c': [3], 'b': [12, 10], 'a': [19, 4]}\n",
    "sorted_keys = sorted(input_dict.keys())\n",
    "\n",
    "sorted_dict = {}\n",
    "for key in sorted_keys:\n",
    "    sorted_value = sorted(input_dict[key])\n",
    "    sorted_dict[key] = sorted_value\n",
    "\n",
    "print(sorted_dict)"
   ]
  },
  {
   "cell_type": "code",
   "execution_count": 203,
   "id": "b72a0701",
   "metadata": {},
   "outputs": [
    {
     "name": "stdout",
     "output_type": "stream",
     "text": [
      "{'c': [3, 10, 34]}\n"
     ]
    }
   ],
   "source": [
    "input_dict = {'c': [10, 34, 3]}\n",
    "sorted_keys = sorted(input_dict.keys())\n",
    "sorted_dict = {}\n",
    "\n",
    "for key in sorted_keys:\n",
    "    sorted_value = sorted(input_dict[key])\n",
    "    sorted_dict[key] = sorted_value\n",
    "\n",
    "print(sorted_dict)"
   ]
  }
 ],
 "metadata": {
  "kernelspec": {
   "display_name": "exploratory_data_analysis",
   "language": "python",
   "name": "python3"
  },
  "language_info": {
   "codemirror_mode": {
    "name": "ipython",
    "version": 3
   },
   "file_extension": ".py",
   "mimetype": "text/x-python",
   "name": "python",
   "nbconvert_exporter": "python",
   "pygments_lexer": "ipython3",
   "version": "3.13.5"
  }
 },
 "nbformat": 4,
 "nbformat_minor": 5
}
